{
 "cells": [
  {
   "cell_type": "code",
   "execution_count": 178,
   "metadata": {
    "collapsed": false
   },
   "outputs": [],
   "source": [
    "import pandas as pd\n",
    "import numpy as np\n",
    "import qexpy as q\n",
    "q.set_print_style(\"latex\")"
   ]
  },
  {
   "cell_type": "markdown",
   "metadata": {},
   "source": [
    "# Lab 8\n",
    "### Viraj Bangari\n",
    "#### 2017-03-17\n",
    "\n",
    "- Set up the following apparatus:\n",
    "\n",
    "<center>\n",
    "<img src=\"./data/diagram.png\" width=30%>\n",
    "<i>Figure 1: Diagram of Apparatus</i>\n",
    "\n",
    "<img src=\"./data/diagram2.png\" width=30%>\n",
    "<i>Figure 2: Detailed Wiring Diagram of Diagram Beam</i>\n",
    "</center>\n",
    "\n",
    "\n",
    "- Use Leybold power supply for adjusting filament voltge and grid bias.\n",
    "- Use BKPrecision  DC Power supply 1630.\n",
    "- Use two BK Precision 2831D multimeters for measuring filament voltage and filment current. Accuracy is +/- 1 last digit\n",
    "- Using the Leybold power supply, turn both knobs to zero. Turn it on\n",
    "- Set anode voltge to 150V. Increase current in Helmholtz until electron orbit diameter is 8 cm. Rotate tubes in wood clamps so that the beams forms a closed circle. \n",
    "- Increase the anode voltage to 250V in 20V increasments. Measure the current requiered to mainting electrons in circular orbit with 8 cm."
   ]
  },
  {
   "cell_type": "code",
   "execution_count": 206,
   "metadata": {
    "collapsed": false
   },
   "outputs": [
    {
     "name": "stdout",
     "output_type": "stream",
     "text": [
      "Table 1: Voltage and Current for D = 8.0 +/- 0.2 cm (CCW Beam)\n"
     ]
    },
    {
     "data": {
      "text/html": [
       "<div>\n",
       "<table border=\"1\" class=\"dataframe\">\n",
       "  <thead>\n",
       "    <tr style=\"text-align: right;\">\n",
       "      <th></th>\n",
       "      <th>Anode Voltage [V] +/- 0.1 [V]</th>\n",
       "      <th>Filament Current [A] +/- 0.001[A]</th>\n",
       "    </tr>\n",
       "  </thead>\n",
       "  <tbody>\n",
       "    <tr>\n",
       "      <th>0</th>\n",
       "      <td>149.5</td>\n",
       "      <td>1.226</td>\n",
       "    </tr>\n",
       "    <tr>\n",
       "      <th>1</th>\n",
       "      <td>169.9</td>\n",
       "      <td>1.332</td>\n",
       "    </tr>\n",
       "    <tr>\n",
       "      <th>2</th>\n",
       "      <td>190.3</td>\n",
       "      <td>1.360</td>\n",
       "    </tr>\n",
       "    <tr>\n",
       "      <th>3</th>\n",
       "      <td>210.0</td>\n",
       "      <td>1.451</td>\n",
       "    </tr>\n",
       "    <tr>\n",
       "      <th>4</th>\n",
       "      <td>229.9</td>\n",
       "      <td>1.517</td>\n",
       "    </tr>\n",
       "    <tr>\n",
       "      <th>5</th>\n",
       "      <td>250.0</td>\n",
       "      <td>1.597</td>\n",
       "    </tr>\n",
       "  </tbody>\n",
       "</table>\n",
       "</div>"
      ],
      "text/plain": [
       "   Anode Voltage [V] +/- 0.1 [V]  Filament Current [A] +/- 0.001[A]\n",
       "0                          149.5                              1.226\n",
       "1                          169.9                              1.332\n",
       "2                          190.3                              1.360\n",
       "3                          210.0                              1.451\n",
       "4                          229.9                              1.517\n",
       "5                          250.0                              1.597"
      ]
     },
     "execution_count": 206,
     "metadata": {},
     "output_type": "execute_result"
    }
   ],
   "source": [
    "print(\"Table 1: Voltage and Current for D = 8.0 +/- 0.2 cm (CCW Beam)\")\n",
    "pd.read_excel('./data/Data.xlsx', 0)"
   ]
  },
  {
   "cell_type": "markdown",
   "metadata": {},
   "source": [
    "- Turn tube 180 degrees, and reverse the direction of the current, reverse the polarization."
   ]
  },
  {
   "cell_type": "code",
   "execution_count": 207,
   "metadata": {
    "collapsed": false
   },
   "outputs": [
    {
     "name": "stdout",
     "output_type": "stream",
     "text": [
      "Table 2: Voltage and Current for D = 8.0 +/- 0.2 cm with reversed current polarization (CW Beam)\n"
     ]
    },
    {
     "data": {
      "text/html": [
       "<div>\n",
       "<table border=\"1\" class=\"dataframe\">\n",
       "  <thead>\n",
       "    <tr style=\"text-align: right;\">\n",
       "      <th></th>\n",
       "      <th>Anode Voltage [V] +/- 0.1 [V]</th>\n",
       "      <th>Filament Current [A] +/- 0.001[A]</th>\n",
       "    </tr>\n",
       "  </thead>\n",
       "  <tbody>\n",
       "    <tr>\n",
       "      <th>0</th>\n",
       "      <td>150.3</td>\n",
       "      <td>1.408</td>\n",
       "    </tr>\n",
       "    <tr>\n",
       "      <th>1</th>\n",
       "      <td>169.7</td>\n",
       "      <td>1.472</td>\n",
       "    </tr>\n",
       "    <tr>\n",
       "      <th>2</th>\n",
       "      <td>189.7</td>\n",
       "      <td>1.551</td>\n",
       "    </tr>\n",
       "    <tr>\n",
       "      <th>3</th>\n",
       "      <td>209.8</td>\n",
       "      <td>1.683</td>\n",
       "    </tr>\n",
       "    <tr>\n",
       "      <th>4</th>\n",
       "      <td>230.2</td>\n",
       "      <td>1.645</td>\n",
       "    </tr>\n",
       "    <tr>\n",
       "      <th>5</th>\n",
       "      <td>250.3</td>\n",
       "      <td>1.720</td>\n",
       "    </tr>\n",
       "  </tbody>\n",
       "</table>\n",
       "</div>"
      ],
      "text/plain": [
       "   Anode Voltage [V] +/- 0.1 [V]  Filament Current [A] +/- 0.001[A]\n",
       "0                          150.3                              1.408\n",
       "1                          169.7                              1.472\n",
       "2                          189.7                              1.551\n",
       "3                          209.8                              1.683\n",
       "4                          230.2                              1.645\n",
       "5                          250.3                              1.720"
      ]
     },
     "execution_count": 207,
     "metadata": {},
     "output_type": "execute_result"
    }
   ],
   "source": [
    "print(\"Table 2: Voltage and Current for D = 8.0 +/- 0.2 cm with reversed current polarization (CW Beam)\")\n",
    "pd.read_excel('./data/Data.xlsx', 1)"
   ]
  },
  {
   "cell_type": "markdown",
   "metadata": {},
   "source": [
    "- Repeat steps above, except using D = 10cm"
   ]
  },
  {
   "cell_type": "code",
   "execution_count": 17,
   "metadata": {
    "collapsed": false
   },
   "outputs": [
    {
     "name": "stdout",
     "output_type": "stream",
     "text": [
      "Table 3: Voltage and Current for D = 10.0 +/- 0.2 cm (CCW Beam)\n"
     ]
    },
    {
     "data": {
      "text/html": [
       "<div>\n",
       "<table border=\"1\" class=\"dataframe\">\n",
       "  <thead>\n",
       "    <tr style=\"text-align: right;\">\n",
       "      <th></th>\n",
       "      <th>Anode Voltage [V] +/- 0.1 [V]</th>\n",
       "      <th>Filament Current [A] +/- 0.001[A]</th>\n",
       "    </tr>\n",
       "  </thead>\n",
       "  <tbody>\n",
       "    <tr>\n",
       "      <th>0</th>\n",
       "      <td>150.0</td>\n",
       "      <td>0.984</td>\n",
       "    </tr>\n",
       "    <tr>\n",
       "      <th>1</th>\n",
       "      <td>169.9</td>\n",
       "      <td>1.018</td>\n",
       "    </tr>\n",
       "    <tr>\n",
       "      <th>2</th>\n",
       "      <td>190.0</td>\n",
       "      <td>1.092</td>\n",
       "    </tr>\n",
       "    <tr>\n",
       "      <th>3</th>\n",
       "      <td>210.5</td>\n",
       "      <td>1.146</td>\n",
       "    </tr>\n",
       "    <tr>\n",
       "      <th>4</th>\n",
       "      <td>230.5</td>\n",
       "      <td>1.200</td>\n",
       "    </tr>\n",
       "    <tr>\n",
       "      <th>5</th>\n",
       "      <td>249.6</td>\n",
       "      <td>1.279</td>\n",
       "    </tr>\n",
       "  </tbody>\n",
       "</table>\n",
       "</div>"
      ],
      "text/plain": [
       "   Anode Voltage [V] +/- 0.1 [V]  Filament Current [A] +/- 0.001[A]\n",
       "0                          150.0                              0.984\n",
       "1                          169.9                              1.018\n",
       "2                          190.0                              1.092\n",
       "3                          210.5                              1.146\n",
       "4                          230.5                              1.200\n",
       "5                          249.6                              1.279"
      ]
     },
     "execution_count": 17,
     "metadata": {},
     "output_type": "execute_result"
    }
   ],
   "source": [
    "print(\"Table 3: Voltage and Current for D = 10.0 +/- 0.2 cm (CCW Beam)\")\n",
    "pd.read_excel('./data/Data.xlsx', 2)"
   ]
  },
  {
   "cell_type": "code",
   "execution_count": 18,
   "metadata": {
    "collapsed": false
   },
   "outputs": [
    {
     "name": "stdout",
     "output_type": "stream",
     "text": [
      "Table 4: Voltage and Current for D = 10.0 +/- 0.2 cm with reversed current polarization (CW Beam)\n"
     ]
    },
    {
     "data": {
      "text/html": [
       "<div>\n",
       "<table border=\"1\" class=\"dataframe\">\n",
       "  <thead>\n",
       "    <tr style=\"text-align: right;\">\n",
       "      <th></th>\n",
       "      <th>Anode Voltage [V] +/- 0.1 [V]</th>\n",
       "      <th>Filament Current [A] +/- 0.001[A]</th>\n",
       "    </tr>\n",
       "  </thead>\n",
       "  <tbody>\n",
       "    <tr>\n",
       "      <th>0</th>\n",
       "      <td>150.1</td>\n",
       "      <td>1.093</td>\n",
       "    </tr>\n",
       "    <tr>\n",
       "      <th>1</th>\n",
       "      <td>170.0</td>\n",
       "      <td>1.160</td>\n",
       "    </tr>\n",
       "    <tr>\n",
       "      <th>2</th>\n",
       "      <td>190.0</td>\n",
       "      <td>1.227</td>\n",
       "    </tr>\n",
       "    <tr>\n",
       "      <th>3</th>\n",
       "      <td>209.9</td>\n",
       "      <td>1.298</td>\n",
       "    </tr>\n",
       "    <tr>\n",
       "      <th>4</th>\n",
       "      <td>230.1</td>\n",
       "      <td>1.338</td>\n",
       "    </tr>\n",
       "    <tr>\n",
       "      <th>5</th>\n",
       "      <td>249.8</td>\n",
       "      <td>1.394</td>\n",
       "    </tr>\n",
       "  </tbody>\n",
       "</table>\n",
       "</div>"
      ],
      "text/plain": [
       "   Anode Voltage [V] +/- 0.1 [V]  Filament Current [A] +/- 0.001[A]\n",
       "0                          150.1                              1.093\n",
       "1                          170.0                              1.160\n",
       "2                          190.0                              1.227\n",
       "3                          209.9                              1.298\n",
       "4                          230.1                              1.338\n",
       "5                          249.8                              1.394"
      ]
     },
     "execution_count": 18,
     "metadata": {},
     "output_type": "execute_result"
    }
   ],
   "source": [
    "print(\"Table 4: Voltage and Current for D = 10.0 +/- 0.2 cm with reversed current polarization (CW Beam)\")\n",
    "pd.read_excel('./data/Data.xlsx', 3)"
   ]
  },
  {
   "cell_type": "code",
   "execution_count": 12,
   "metadata": {
    "collapsed": false
   },
   "outputs": [
    {
     "name": "stdout",
     "output_type": "stream",
     "text": [
      "r/R is (26 +/- 1)*10^(-2)\n",
      "B/Bo is 0.99621\n",
      "Kr is (771 +/- 4)*10^(-6) (T/A)\n",
      "\n",
      "These measurements are for Il = (1720 +/- 1)*10^(-3) A, Is = (1597 +/- 1)*10^(-3) A, V = (25015 +/- 7)*10^(-2) V\n",
      "Be is (-474 +/- 6)*10^(-7) T\n",
      "Bt is (1279 +/- 7)*10^(-6) T\n",
      "e/m is (191 +/- 10)*10^(9) C/kg\n"
     ]
    }
   ],
   "source": [
    "# r = q.Measurement(8, 0.2)/100/2 # m\n",
    "# R =  q.Measurement(15.4, 0.5)/100 # m\n",
    "# print(\"r/R is {}\".format(r/R))\n",
    "\n",
    "# B_Bo = 0.99621\n",
    "# print(\"B/Bo is {}\".format(B_Bo))\n",
    "\n",
    "# K = q.Measurement(7.74, 0.04)*1e-4 # T/A\n",
    "# Kr = B_Bo * K\n",
    "# print(\"Kr is {} (T/A)\\n\".format(Kr))\n",
    "\n",
    "# data1 = pd.read_excel('./data/Data.xlsx', 0).as_matrix() # CCW\n",
    "# data2 = pd.read_excel('./data/Data.xlsx', 1).as_matrix() # CW\n",
    "# V = 0.5 *(q.Measurement(data1[:, 0][-1], 0.1) + q.Measurement(data2[:, 0][-1], 0.1)) # V\n",
    "# Is = q.Measurement(data1[:, 1][-1], 0.001) # A\n",
    "# Il = q.Measurement(data2[:, 1][-1], 0.001) # A\n",
    "\n",
    "# print(\"These measurements are for Il = {} A, Is = {} A, V = {} V\".format(Il, Is, V))\n",
    "\n",
    "# Be = Kr/2*(Is - Il)\n",
    "# print(\"Be is {} T\".format(Be))\n",
    "\n",
    "# Bt = Kr/2*(Is + Il)\n",
    "# print(\"Bt is {} T\".format(Bt))\n",
    "\n",
    "# e_m = 2*V/(Bt**2 * r**2)\n",
    "# print(\"e/m is {} C/kg\".format(e_m))"
   ]
  },
  {
   "cell_type": "code",
   "execution_count": 82,
   "metadata": {
    "collapsed": false
   },
   "outputs": [],
   "source": [
    "# Location of original data\n",
    "data_8cm_normal = pd.read_excel('./data/Data.xlsx', 0).as_matrix()\n",
    "data_8cm_reverse = pd.read_excel('./data/Data.xlsx', 1).as_matrix()\n",
    "data_10cm_normal = pd.read_excel('./data/Data.xlsx', 2).as_matrix()\n",
    "data_10cm_reverse = pd.read_excel('./data/Data.xlsx', 3).as_matrix()\n",
    "\n",
    "all_data = [data_8cm_normal, data_8cm_reverse, data_10cm_normal, data_10cm_reverse]\n",
    "\n",
    "# Normalize Voltage\n",
    "voltages = []\n",
    "currents = []\n",
    "for dataset in all_data:\n",
    "    voltage = dataset[:, 0]\n",
    "    voltage -= 0.01 * voltage\n",
    "    voltages.append(q.MeasurementArray(voltage, 0.1*np.ones(len(voltage))))\n",
    "\n",
    "    current = dataset[:, 1]\n",
    "    currents.append(q.MeasurementArray(current, 0.001*np.ones(len(current))))"
   ]
  },
  {
   "cell_type": "code",
   "execution_count": 148,
   "metadata": {
    "collapsed": false
   },
   "outputs": [
    {
     "name": "stdout",
     "output_type": "stream",
     "text": [
      "K (774 \\pm 4)*10^{-6}\n",
      "R (154 \\pm 5)*10^{-1}\n",
      "r4cm/R (26 \\pm 1)*10^{-2}\n",
      "r5cm/R (32 \\pm 1)*10^{-2}\n",
      "Kr 4cm (771 \\pm 4)*10^{-6}\n",
      "Kr 5cm (771 \\pm 4)*10^{-6}\n"
     ]
    }
   ],
   "source": [
    "# Calculating Kr\n",
    "K = q.Measurement(7.74, 0.04)*1e-4 # T/A\n",
    "R = q.Measurement(15.4, 0.5)\n",
    "r4cm = q.Measurement(8, 0.2)/2\n",
    "r5cm = q.Measurement(10, 0.2)/2\n",
    "\n",
    "print(\"K\", K)\n",
    "print(\"R\", R)\n",
    "\n",
    "print(\"r4cm/R\", r4cm/R)\n",
    "B_Bo4cm = 0.99621\n",
    "\n",
    "print(\"r5cm/R\", r5cm/R)\n",
    "B_Bo5cm = 0.99621\n",
    "\n",
    "Kr4cm = B_Bo4cm * K\n",
    "Kr5cm = B_Bo5cm * K\n",
    "\n",
    "print(\"Kr 4cm\", Kr4cm)\n",
    "print(\"Kr 5cm\", Kr5cm)"
   ]
  },
  {
   "cell_type": "code",
   "execution_count": 149,
   "metadata": {
    "collapsed": false
   },
   "outputs": [
    {
     "name": "stdout",
     "output_type": "stream",
     "text": [
      "Be4cm (-621 \\pm 3)*10^{-7}\n",
      "Be5cm (-506 \\pm 2)*10^{-7}\n",
      "Bt4cm (1140 \\pm 2)*10^{-6}\n",
      "Bt5cm (901 \\pm 2)*10^{-6}\n",
      "Be (-564 \\pm 2)*10^{-7}\n"
     ]
    }
   ],
   "source": [
    "# Calculating Bt and Be\n",
    "\n",
    "Be4cm = Kr4cm/2 * (currents[0] - currents[1])\n",
    "print(\"Be4cm\", Be4cm.get_error_weighted_mean())\n",
    "Be5cm = Kr5cm/2 * (currents[-2] - currents[-1])\n",
    "print(\"Be5cm\", Be8cm.get_error_weighted_mean())\n",
    "\n",
    "Bt4cm = Kr4cm/2 * (currents[0] + currents[1])\n",
    "print(\"Bt4cm\", Bt4cm.get_error_weighted_mean())\n",
    "Bt5cm = Kr5cm/2 * (currents[-2] + currents[-1])\n",
    "print(\"Bt5cm\", Bt5cm.get_error_weighted_mean())\n",
    "\n",
    "Be = (Be4cm.get_error_weighted_mean() + Be5cm.get_error_weighted_mean())/2\n",
    "print(\"Be\", Be)"
   ]
  },
  {
   "cell_type": "code",
   "execution_count": 218,
   "metadata": {
    "collapsed": false
   },
   "outputs": [
    {
     "name": "stdout",
     "output_type": "stream",
     "text": [
      "(171 \\pm 4)*10^{9}\n"
     ]
    }
   ],
   "source": [
    "# em for 4cm\n",
    "V4cm = (voltages[0] + voltage[1])/2\n",
    "e_m4cm = 2*V4cm / (Bt4cm * r4cm/100)**2\n",
    "\n",
    "print(e_m4cm.get_error_weighted_mean())"
   ]
  },
  {
   "cell_type": "code",
   "execution_count": 212,
   "metadata": {
    "collapsed": false
   },
   "outputs": [
    {
     "name": "stdout",
     "output_type": "stream",
     "text": [
      "(188 \\pm 3)*10^{9}\n"
     ]
    }
   ],
   "source": [
    "# em for 8cm\n",
    "V5cm = (voltages[-1] + voltages[-2])/2\n",
    "e_m5cm = 2*V5cm / (Bt5cm * r5cm/100)**2\n",
    "\n",
    "print(e_m5cm.get_error_weighted_mean())"
   ]
  },
  {
   "cell_type": "code",
   "execution_count": 213,
   "metadata": {
    "collapsed": false
   },
   "outputs": [
    {
     "name": "stdout",
     "output_type": "stream",
     "text": [
      "(180 \\pm 2)*10^{9}\n"
     ]
    }
   ],
   "source": [
    "e_m = (e_m4cm.get_error_weighted_mean() + e_m5cm.get_error_weighted_mean())/2\n",
    "print(e_m)"
   ]
  }
 ],
 "metadata": {
  "kernelspec": {
   "display_name": "Python 3",
   "language": "python",
   "name": "python3"
  },
  "language_info": {
   "codemirror_mode": {
    "name": "ipython",
    "version": 3
   },
   "file_extension": ".py",
   "mimetype": "text/x-python",
   "name": "python",
   "nbconvert_exporter": "python",
   "pygments_lexer": "ipython3",
   "version": "3.6.0"
  }
 },
 "nbformat": 4,
 "nbformat_minor": 2
}
