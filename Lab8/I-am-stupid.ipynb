{
 "cells": [
  {
   "cell_type": "code",
   "execution_count": 2,
   "metadata": {
    "collapsed": true
   },
   "outputs": [],
   "source": [
    "import pandas as pd\n",
    "import numpy as np"
   ]
  },
  {
   "cell_type": "markdown",
   "metadata": {},
   "source": [
    "# Lab 8\n",
    "### Viraj Bangari\n",
    "### 2017-03-08\n",
    "\n",
    "- Set up system like the following\n",
    "\n",
    "<center>\n",
    "<img src=\"./data/diagram.png\" width=40%>\n",
    "<i>Figure 1: Diagram of Mechanical Resonance Apparatus</i>\n",
    "</center>\n",
    "\n",
    "- Weigh sample of stainless steel wire\n",
    "\n",
    "Avg. mass of the wire = $$ \n",
    "\n",
    "Length of wire = $$\n",
    "\n",
    "$\\sigma = $\n",
    "\n",
    "- Measure length of suspension using tape measure\n",
    "\n",
    "$L = $\n",
    "\n",
    "Calculate lowest resonance frequency:\n",
    "\n",
    "$f_{1,theoretical} = \\frac{1}{2L}\\sqrt{\\frac{T}{\\sigma}} = $\n",
    "\n",
    "- Using the oscillator with accurracy 10ppm, set the output to 2.5V, leave series resistance on maximum and set the gain control on aplifier to 10-20% of full scale\n",
    "\n",
    "- Find the lowest frequency experimentally. Adjust amplifier settings so that the vibration amplitude stays within 80-90% of the microscope scale.\n",
    "\n",
    "$f_1 = $\n",
    "\n",
    "- Measure frequency and temperature within $\\pm$ 1 Hz of $f_1$"
   ]
  },
  {
   "cell_type": "code",
   "execution_count": 5,
   "metadata": {
    "collapsed": false
   },
   "outputs": [
    {
     "name": "stdout",
     "output_type": "stream",
     "text": [
      "Table 1: Mechanical Resonance aroung +/- 1 Hz of f1\n"
     ]
    },
    {
     "data": {
      "text/html": [
       "<div>\n",
       "<table border=\"1\" class=\"dataframe\">\n",
       "  <thead>\n",
       "    <tr style=\"text-align: right;\">\n",
       "      <th></th>\n",
       "      <th>Frequency [Hz]</th>\n",
       "      <th>Amplitude</th>\n",
       "      <th>Temperature [℃]</th>\n",
       "    </tr>\n",
       "  </thead>\n",
       "  <tbody>\n",
       "  </tbody>\n",
       "</table>\n",
       "</div>"
      ],
      "text/plain": [
       "Empty DataFrame\n",
       "Columns: [Frequency [Hz], Amplitude, Temperature [℃]]\n",
       "Index: []"
      ]
     },
     "execution_count": 5,
     "metadata": {},
     "output_type": "execute_result"
    }
   ],
   "source": [
    "print(\"Table 1: Mechanical Resonance around +/- 1 Hz of f1\")\n",
    "pd.read_excel('./data/Data.xlsx', 0)"
   ]
  },
  {
   "cell_type": "markdown",
   "metadata": {},
   "source": [
    "- Measure $f_3$ and its amplitude\n",
    "\n",
    "$f_3 = $\n",
    "\n",
    "$A_3 = $\n",
    "\n",
    "- Set frequency to $f_1$. Decrease Voltage to 1.0V of oscillator and measure Amplitude."
   ]
  },
  {
   "cell_type": "code",
   "execution_count": 6,
   "metadata": {
    "collapsed": false
   },
   "outputs": [
    {
     "name": "stdout",
     "output_type": "stream",
     "text": [
      "Table 2: Amplitude of Wire at f1 with Changing Voltage\n"
     ]
    },
    {
     "data": {
      "text/html": [
       "<div>\n",
       "<table border=\"1\" class=\"dataframe\">\n",
       "  <thead>\n",
       "    <tr style=\"text-align: right;\">\n",
       "      <th></th>\n",
       "      <th>Output Voltage [V]</th>\n",
       "      <th>Amplitude</th>\n",
       "    </tr>\n",
       "  </thead>\n",
       "  <tbody>\n",
       "  </tbody>\n",
       "</table>\n",
       "</div>"
      ],
      "text/plain": [
       "Empty DataFrame\n",
       "Columns: [Output Voltage [V], Amplitude]\n",
       "Index: []"
      ]
     },
     "execution_count": 6,
     "metadata": {},
     "output_type": "execute_result"
    }
   ],
   "source": [
    "print(\"Table 2: Amplitude of Wire at f1 with Changing Voltage\")\n",
    "pd.read_excel('./data/Data.xlsx', 1)"
   ]
  },
  {
   "cell_type": "markdown",
   "metadata": {},
   "source": [
    "- Set voltage to 1.0V, remeasure $f_1$\n",
    "\n",
    "$f_{1,1.0V} = $"
   ]
  },
  {
   "cell_type": "code",
   "execution_count": null,
   "metadata": {
    "collapsed": true
   },
   "outputs": [],
   "source": []
  }
 ],
 "metadata": {
  "kernelspec": {
   "display_name": "Python 3",
   "language": "python",
   "name": "python3"
  },
  "language_info": {
   "codemirror_mode": {
    "name": "ipython",
    "version": 3
   },
   "file_extension": ".py",
   "mimetype": "text/x-python",
   "name": "python",
   "nbconvert_exporter": "python",
   "pygments_lexer": "ipython3",
   "version": "3.6.0"
  }
 },
 "nbformat": 4,
 "nbformat_minor": 2
}
