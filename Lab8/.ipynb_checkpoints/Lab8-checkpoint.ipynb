{
 "cells": [
  {
   "cell_type": "code",
   "execution_count": 1,
   "metadata": {
    "collapsed": false
   },
   "outputs": [
    {
     "data": {
      "text/html": [
       "\n",
       "    <div class=\"bk-root\">\n",
       "        <a href=\"http://bokeh.pydata.org\" target=\"_blank\" class=\"bk-logo bk-logo-small bk-logo-notebook\"></a>\n",
       "        <span id=\"fcac5f1f-32e2-4bba-8dc1-d9f4022c2964\">Loading BokehJS ...</span>\n",
       "    </div>"
      ]
     },
     "metadata": {},
     "output_type": "display_data"
    },
    {
     "data": {
      "application/javascript": [
       "\n",
       "(function(global) {\n",
       "  function now() {\n",
       "    return new Date();\n",
       "  }\n",
       "\n",
       "  var force = true;\n",
       "\n",
       "  if (typeof (window._bokeh_onload_callbacks) === \"undefined\" || force === true) {\n",
       "    window._bokeh_onload_callbacks = [];\n",
       "    window._bokeh_is_loading = undefined;\n",
       "  }\n",
       "\n",
       "\n",
       "  \n",
       "  if (typeof (window._bokeh_timeout) === \"undefined\" || force === true) {\n",
       "    window._bokeh_timeout = Date.now() + 5000;\n",
       "    window._bokeh_failed_load = false;\n",
       "  }\n",
       "\n",
       "  var NB_LOAD_WARNING = {'data': {'text/html':\n",
       "     \"<div style='background-color: #fdd'>\\n\"+\n",
       "     \"<p>\\n\"+\n",
       "     \"BokehJS does not appear to have successfully loaded. If loading BokehJS from CDN, this \\n\"+\n",
       "     \"may be due to a slow or bad network connection. Possible fixes:\\n\"+\n",
       "     \"</p>\\n\"+\n",
       "     \"<ul>\\n\"+\n",
       "     \"<li>re-rerun `output_notebook()` to attempt to load from CDN again, or</li>\\n\"+\n",
       "     \"<li>use INLINE resources instead, as so:</li>\\n\"+\n",
       "     \"</ul>\\n\"+\n",
       "     \"<code>\\n\"+\n",
       "     \"from bokeh.resources import INLINE\\n\"+\n",
       "     \"output_notebook(resources=INLINE)\\n\"+\n",
       "     \"</code>\\n\"+\n",
       "     \"</div>\"}};\n",
       "\n",
       "  function display_loaded() {\n",
       "    if (window.Bokeh !== undefined) {\n",
       "      document.getElementById(\"fcac5f1f-32e2-4bba-8dc1-d9f4022c2964\").textContent = \"BokehJS successfully loaded.\";\n",
       "    } else if (Date.now() < window._bokeh_timeout) {\n",
       "      setTimeout(display_loaded, 100)\n",
       "    }\n",
       "  }\n",
       "\n",
       "  function run_callbacks() {\n",
       "    window._bokeh_onload_callbacks.forEach(function(callback) { callback() });\n",
       "    delete window._bokeh_onload_callbacks\n",
       "    console.info(\"Bokeh: all callbacks have finished\");\n",
       "  }\n",
       "\n",
       "  function load_libs(js_urls, callback) {\n",
       "    window._bokeh_onload_callbacks.push(callback);\n",
       "    if (window._bokeh_is_loading > 0) {\n",
       "      console.log(\"Bokeh: BokehJS is being loaded, scheduling callback at\", now());\n",
       "      return null;\n",
       "    }\n",
       "    if (js_urls == null || js_urls.length === 0) {\n",
       "      run_callbacks();\n",
       "      return null;\n",
       "    }\n",
       "    console.log(\"Bokeh: BokehJS not loaded, scheduling load and callback at\", now());\n",
       "    window._bokeh_is_loading = js_urls.length;\n",
       "    for (var i = 0; i < js_urls.length; i++) {\n",
       "      var url = js_urls[i];\n",
       "      var s = document.createElement('script');\n",
       "      s.src = url;\n",
       "      s.async = false;\n",
       "      s.onreadystatechange = s.onload = function() {\n",
       "        window._bokeh_is_loading--;\n",
       "        if (window._bokeh_is_loading === 0) {\n",
       "          console.log(\"Bokeh: all BokehJS libraries loaded\");\n",
       "          run_callbacks()\n",
       "        }\n",
       "      };\n",
       "      s.onerror = function() {\n",
       "        console.warn(\"failed to load library \" + url);\n",
       "      };\n",
       "      console.log(\"Bokeh: injecting script tag for BokehJS library: \", url);\n",
       "      document.getElementsByTagName(\"head\")[0].appendChild(s);\n",
       "    }\n",
       "  };var element = document.getElementById(\"fcac5f1f-32e2-4bba-8dc1-d9f4022c2964\");\n",
       "  if (element == null) {\n",
       "    console.log(\"Bokeh: ERROR: autoload.js configured with elementid 'fcac5f1f-32e2-4bba-8dc1-d9f4022c2964' but no matching script tag was found. \")\n",
       "    return false;\n",
       "  }\n",
       "\n",
       "  var js_urls = [\"https://cdn.pydata.org/bokeh/release/bokeh-0.12.4.min.js\", \"https://cdn.pydata.org/bokeh/release/bokeh-widgets-0.12.4.min.js\"];\n",
       "\n",
       "  var inline_js = [\n",
       "    function(Bokeh) {\n",
       "      Bokeh.set_log_level(\"info\");\n",
       "    },\n",
       "    \n",
       "    function(Bokeh) {\n",
       "      \n",
       "      document.getElementById(\"fcac5f1f-32e2-4bba-8dc1-d9f4022c2964\").textContent = \"BokehJS is loading...\";\n",
       "    },\n",
       "    function(Bokeh) {\n",
       "      console.log(\"Bokeh: injecting CSS: https://cdn.pydata.org/bokeh/release/bokeh-0.12.4.min.css\");\n",
       "      Bokeh.embed.inject_css(\"https://cdn.pydata.org/bokeh/release/bokeh-0.12.4.min.css\");\n",
       "      console.log(\"Bokeh: injecting CSS: https://cdn.pydata.org/bokeh/release/bokeh-widgets-0.12.4.min.css\");\n",
       "      Bokeh.embed.inject_css(\"https://cdn.pydata.org/bokeh/release/bokeh-widgets-0.12.4.min.css\");\n",
       "    }\n",
       "  ];\n",
       "\n",
       "  function run_inline_js() {\n",
       "    \n",
       "    if ((window.Bokeh !== undefined) || (force === true)) {\n",
       "      for (var i = 0; i < inline_js.length; i++) {\n",
       "        inline_js[i](window.Bokeh);\n",
       "      }if (force === true) {\n",
       "        display_loaded();\n",
       "      }} else if (Date.now() < window._bokeh_timeout) {\n",
       "      setTimeout(run_inline_js, 100);\n",
       "    } else if (!window._bokeh_failed_load) {\n",
       "      console.log(\"Bokeh: BokehJS failed to load within specified timeout.\");\n",
       "      window._bokeh_failed_load = true;\n",
       "    } else if (force !== true) {\n",
       "      var cell = $(document.getElementById(\"fcac5f1f-32e2-4bba-8dc1-d9f4022c2964\")).parents('.cell').data().cell;\n",
       "      cell.output_area.append_execute_result(NB_LOAD_WARNING)\n",
       "    }\n",
       "\n",
       "  }\n",
       "\n",
       "  if (window._bokeh_is_loading === 0) {\n",
       "    console.log(\"Bokeh: BokehJS loaded, going straight to plotting\");\n",
       "    run_inline_js();\n",
       "  } else {\n",
       "    load_libs(js_urls, function() {\n",
       "      console.log(\"Bokeh: BokehJS plotting callback run at\", now());\n",
       "      run_inline_js();\n",
       "    });\n",
       "  }\n",
       "}(this));"
      ]
     },
     "metadata": {},
     "output_type": "display_data"
    }
   ],
   "source": [
    "import pandas as pd\n",
    "import numpy as np\n",
    "import qexpy as q\n",
    "q.set_print_style(\"scientific\")"
   ]
  },
  {
   "cell_type": "markdown",
   "metadata": {},
   "source": [
    "# Lab 8\n",
    "### Viraj Bangari\n",
    "#### 2017-03-17\n",
    "\n",
    "- Set up the following apparatus:\n",
    "\n",
    "<center>\n",
    "<img src=\"./data/diagram.png\" width=30%>\n",
    "<i>Figure 1: Diagram of Apparatus</i>\n",
    "\n",
    "<img src=\"./data/diagram2.png\" width=30%>\n",
    "<i>Figure 2: Detailed Wiring Diagram of Diagram Beam</i>\n",
    "</center>\n",
    "\n",
    "\n",
    "- Use Leybold power supply for adjusting filament voltge and grid bias.\n",
    "- Use BKPrecision  DC Power supply 1630.\n",
    "- Use two BK Precision 2831D multimeters for measuring filament voltage and filment current. Accuracy is +/- 1 last digit\n",
    "- Using the Leybold power supply, turn both knobs to zero. Turn it on\n",
    "- Set anode voltge to 150V. Increase current in Helmholtz until electron orbit diameter is 8 cm. Rotate tubes in wood clamps so that the beams forms a closed circle. \n",
    "- Increase the anode voltage to 250V in 20V increasments. Measure the current requiered to mainting electrons in circular orbit with 8 cm."
   ]
  },
  {
   "cell_type": "code",
   "execution_count": 2,
   "metadata": {
    "collapsed": false
   },
   "outputs": [
    {
     "name": "stdout",
     "output_type": "stream",
     "text": [
      "Table 1: Voltage and Current for D = 8.0 +/- 0.2 cm (CCW Beam)\n"
     ]
    },
    {
     "data": {
      "text/html": [
       "<div>\n",
       "<table border=\"1\" class=\"dataframe\">\n",
       "  <thead>\n",
       "    <tr style=\"text-align: right;\">\n",
       "      <th></th>\n",
       "      <th>Anode Voltage [V] +/- 0.1 [V]</th>\n",
       "      <th>Filament Current [A] +/- 0.001[A]</th>\n",
       "    </tr>\n",
       "  </thead>\n",
       "  <tbody>\n",
       "    <tr>\n",
       "      <th>0</th>\n",
       "      <td>149.5</td>\n",
       "      <td>1.226</td>\n",
       "    </tr>\n",
       "    <tr>\n",
       "      <th>1</th>\n",
       "      <td>169.9</td>\n",
       "      <td>1.332</td>\n",
       "    </tr>\n",
       "    <tr>\n",
       "      <th>2</th>\n",
       "      <td>190.3</td>\n",
       "      <td>1.360</td>\n",
       "    </tr>\n",
       "    <tr>\n",
       "      <th>3</th>\n",
       "      <td>210.0</td>\n",
       "      <td>1.451</td>\n",
       "    </tr>\n",
       "    <tr>\n",
       "      <th>4</th>\n",
       "      <td>229.9</td>\n",
       "      <td>1.517</td>\n",
       "    </tr>\n",
       "    <tr>\n",
       "      <th>5</th>\n",
       "      <td>250.0</td>\n",
       "      <td>1.597</td>\n",
       "    </tr>\n",
       "  </tbody>\n",
       "</table>\n",
       "</div>"
      ],
      "text/plain": [
       "   Anode Voltage [V] +/- 0.1 [V]  Filament Current [A] +/- 0.001[A]\n",
       "0                          149.5                              1.226\n",
       "1                          169.9                              1.332\n",
       "2                          190.3                              1.360\n",
       "3                          210.0                              1.451\n",
       "4                          229.9                              1.517\n",
       "5                          250.0                              1.597"
      ]
     },
     "execution_count": 2,
     "metadata": {},
     "output_type": "execute_result"
    }
   ],
   "source": [
    "print(\"Table 1: Voltage and Current for D = 8.0 +/- 0.2 cm (CCW Beam)\")\n",
    "pd.read_excel('./data/Data.xlsx', 'part1')"
   ]
  },
  {
   "cell_type": "markdown",
   "metadata": {},
   "source": [
    "- Turn tube 180 degrees, and reverse the direction of the current, reverse the polarization."
   ]
  },
  {
   "cell_type": "code",
   "execution_count": 3,
   "metadata": {
    "collapsed": false
   },
   "outputs": [
    {
     "name": "stdout",
     "output_type": "stream",
     "text": [
      "Table 2: Voltage and Current for D = 8.0 +/- 0.2 cm with reversed current polarization (CW Beam)\n"
     ]
    },
    {
     "data": {
      "text/html": [
       "<div>\n",
       "<table border=\"1\" class=\"dataframe\">\n",
       "  <thead>\n",
       "    <tr style=\"text-align: right;\">\n",
       "      <th></th>\n",
       "      <th>Voltage and Current for D = 10.0 +/- 0.2 cm (CCW Beam)</th>\n",
       "      <th>Filament Current [A] +/- 0.001[A]</th>\n",
       "    </tr>\n",
       "  </thead>\n",
       "  <tbody>\n",
       "    <tr>\n",
       "      <th>0</th>\n",
       "      <td>150.3</td>\n",
       "      <td>1.408</td>\n",
       "    </tr>\n",
       "    <tr>\n",
       "      <th>1</th>\n",
       "      <td>169.7</td>\n",
       "      <td>1.472</td>\n",
       "    </tr>\n",
       "    <tr>\n",
       "      <th>2</th>\n",
       "      <td>189.7</td>\n",
       "      <td>1.551</td>\n",
       "    </tr>\n",
       "    <tr>\n",
       "      <th>3</th>\n",
       "      <td>209.8</td>\n",
       "      <td>1.683</td>\n",
       "    </tr>\n",
       "    <tr>\n",
       "      <th>4</th>\n",
       "      <td>230.2</td>\n",
       "      <td>1.645</td>\n",
       "    </tr>\n",
       "    <tr>\n",
       "      <th>5</th>\n",
       "      <td>250.3</td>\n",
       "      <td>1.720</td>\n",
       "    </tr>\n",
       "  </tbody>\n",
       "</table>\n",
       "</div>"
      ],
      "text/plain": [
       "   Voltage and Current for D = 10.0 +/- 0.2 cm (CCW Beam)  \\\n",
       "0                                              150.3        \n",
       "1                                              169.7        \n",
       "2                                              189.7        \n",
       "3                                              209.8        \n",
       "4                                              230.2        \n",
       "5                                              250.3        \n",
       "\n",
       "   Filament Current [A] +/- 0.001[A]  \n",
       "0                              1.408  \n",
       "1                              1.472  \n",
       "2                              1.551  \n",
       "3                              1.683  \n",
       "4                              1.645  \n",
       "5                              1.720  "
      ]
     },
     "execution_count": 3,
     "metadata": {},
     "output_type": "execute_result"
    }
   ],
   "source": [
    "print(\"Table 2: Voltage and Current for D = 8.0 +/- 0.2 cm with reversed current polarization (CW Beam)\")\n",
    "pd.read_excel('./data/Data.xlsx', 'part2')"
   ]
  },
  {
   "cell_type": "markdown",
   "metadata": {},
   "source": [
    "- Repeat steps above, except using D = 10cm"
   ]
  },
  {
   "cell_type": "code",
   "execution_count": 4,
   "metadata": {
    "collapsed": false
   },
   "outputs": [
    {
     "name": "stdout",
     "output_type": "stream",
     "text": [
      "Table 3: Voltage and Current for D = 10.0 +/- 0.2 cm (CCW Beam)\n"
     ]
    },
    {
     "data": {
      "text/html": [
       "<div>\n",
       "<table border=\"1\" class=\"dataframe\">\n",
       "  <thead>\n",
       "    <tr style=\"text-align: right;\">\n",
       "      <th></th>\n",
       "      <th>Anode Voltage [V] +/- 0.1 [V]</th>\n",
       "      <th>Filament Current [A] +/- 0.001[A]</th>\n",
       "    </tr>\n",
       "  </thead>\n",
       "  <tbody>\n",
       "    <tr>\n",
       "      <th>0</th>\n",
       "      <td>150.0</td>\n",
       "      <td>0.984</td>\n",
       "    </tr>\n",
       "    <tr>\n",
       "      <th>1</th>\n",
       "      <td>169.9</td>\n",
       "      <td>1.018</td>\n",
       "    </tr>\n",
       "    <tr>\n",
       "      <th>2</th>\n",
       "      <td>190.0</td>\n",
       "      <td>1.092</td>\n",
       "    </tr>\n",
       "    <tr>\n",
       "      <th>3</th>\n",
       "      <td>210.5</td>\n",
       "      <td>1.146</td>\n",
       "    </tr>\n",
       "    <tr>\n",
       "      <th>4</th>\n",
       "      <td>230.5</td>\n",
       "      <td>1.200</td>\n",
       "    </tr>\n",
       "    <tr>\n",
       "      <th>5</th>\n",
       "      <td>249.6</td>\n",
       "      <td>1.279</td>\n",
       "    </tr>\n",
       "  </tbody>\n",
       "</table>\n",
       "</div>"
      ],
      "text/plain": [
       "   Anode Voltage [V] +/- 0.1 [V]  Filament Current [A] +/- 0.001[A]\n",
       "0                          150.0                              0.984\n",
       "1                          169.9                              1.018\n",
       "2                          190.0                              1.092\n",
       "3                          210.5                              1.146\n",
       "4                          230.5                              1.200\n",
       "5                          249.6                              1.279"
      ]
     },
     "execution_count": 4,
     "metadata": {},
     "output_type": "execute_result"
    }
   ],
   "source": [
    "print(\"Table 3: Voltage and Current for D = 10.0 +/- 0.2 cm (CCW Beam)\")\n",
    "pd.read_excel('./data/Data.xlsx', 'Sheet1')"
   ]
  },
  {
   "cell_type": "code",
   "execution_count": 5,
   "metadata": {
    "collapsed": false
   },
   "outputs": [
    {
     "name": "stdout",
     "output_type": "stream",
     "text": [
      "Table 4: Voltage and Current for D = 10.0 +/- 0.2 cm with reversed current polarization (CW Beam)\n"
     ]
    },
    {
     "data": {
      "text/html": [
       "<div>\n",
       "<table border=\"1\" class=\"dataframe\">\n",
       "  <thead>\n",
       "    <tr style=\"text-align: right;\">\n",
       "      <th></th>\n",
       "      <th>Anode Voltage [V] +/- 0.1 [V]</th>\n",
       "      <th>Filament Current [A] +/- 0.001[A]</th>\n",
       "    </tr>\n",
       "  </thead>\n",
       "  <tbody>\n",
       "    <tr>\n",
       "      <th>0</th>\n",
       "      <td>150.1</td>\n",
       "      <td>1.093</td>\n",
       "    </tr>\n",
       "    <tr>\n",
       "      <th>1</th>\n",
       "      <td>170.0</td>\n",
       "      <td>1.160</td>\n",
       "    </tr>\n",
       "    <tr>\n",
       "      <th>2</th>\n",
       "      <td>190.0</td>\n",
       "      <td>1.227</td>\n",
       "    </tr>\n",
       "    <tr>\n",
       "      <th>3</th>\n",
       "      <td>209.9</td>\n",
       "      <td>1.298</td>\n",
       "    </tr>\n",
       "    <tr>\n",
       "      <th>4</th>\n",
       "      <td>230.1</td>\n",
       "      <td>1.338</td>\n",
       "    </tr>\n",
       "    <tr>\n",
       "      <th>5</th>\n",
       "      <td>249.8</td>\n",
       "      <td>1.394</td>\n",
       "    </tr>\n",
       "  </tbody>\n",
       "</table>\n",
       "</div>"
      ],
      "text/plain": [
       "   Anode Voltage [V] +/- 0.1 [V]  Filament Current [A] +/- 0.001[A]\n",
       "0                          150.1                              1.093\n",
       "1                          170.0                              1.160\n",
       "2                          190.0                              1.227\n",
       "3                          209.9                              1.298\n",
       "4                          230.1                              1.338\n",
       "5                          249.8                              1.394"
      ]
     },
     "execution_count": 5,
     "metadata": {},
     "output_type": "execute_result"
    }
   ],
   "source": [
    "print(\"Table 4: Voltage and Current for D = 10.0 +/- 0.2 cm with reversed current polarization (CW Beam)\")\n",
    "pd.read_excel('./data/Data.xlsx', 'Sheet2')"
   ]
  },
  {
   "cell_type": "code",
   "execution_count": 6,
   "metadata": {
    "collapsed": false
   },
   "outputs": [],
   "source": [
    "# Location of original data\n",
    "data_8cm_normal = pd.read_excel('./data/Data.xlsx', 'part1').as_matrix()\n",
    "data_8cm_reverse = pd.read_excel('./data/Data.xlsx', 'part2').as_matrix()\n",
    "data_10cm_normal = pd.read_excel('./data/Data.xlsx', 'Sheet1').as_matrix()\n",
    "data_10cm_reverse = pd.read_excel('./data/Data.xlsx', 'Sheet2').as_matrix()\n",
    "\n",
    "all_data = [data_8cm_normal, data_8cm_reverse, data_10cm_normal, data_10cm_reverse]\n",
    "\n",
    "# Normalize Voltage\n",
    "voltages = []\n",
    "currents = []\n",
    "for dataset in all_data:\n",
    "    voltage = dataset[:, 0]\n",
    "    voltage -= 0.01 * voltage\n",
    "    q.MeasurementArray(voltage, 0.1*np.ones(len(voltage)))    \n",
    "    voltages.append(q.MeasurementArray(voltage, 0.1*np.ones(len(voltage))))\n",
    "    current = dataset[:, 1]\n",
    "    currents.append(q.MeasurementArray(current, 0.001*np.ones(len(current))))"
   ]
  },
  {
   "cell_type": "code",
   "execution_count": 7,
   "metadata": {
    "collapsed": false
   },
   "outputs": [
    {
     "name": "stdout",
     "output_type": "stream",
     "text": [
      "K (774 +/- 4)*10^(-6)\n",
      "R (154 +/- 5)*10^(-1)\n",
      "r4cm/R (26 +/- 1)*10^(-2)\n",
      "r5cm/R (32 +/- 1)*10^(-2)\n",
      "Kr 4cm (771 +/- 4)*10^(-6)\n",
      "Kr 5cm (771 +/- 4)*10^(-6)\n"
     ]
    }
   ],
   "source": [
    "# Calculating Kr\n",
    "K = q.Measurement(7.74, 0.04)*1e-4 # T/A\n",
    "R = q.Measurement(15.4, 0.5)\n",
    "r4cm = q.Measurement(8, 0.2)/2\n",
    "r5cm = q.Measurement(10, 0.2)/2\n",
    "\n",
    "print(\"K\", K)\n",
    "print(\"R\", R)\n",
    "\n",
    "print(\"r4cm/R\", r4cm/R)\n",
    "B_Bo4cm = 0.99621\n",
    "\n",
    "print(\"r5cm/R\", r5cm/R)\n",
    "B_Bo5cm = 0.99621\n",
    "\n",
    "Kr4cm = B_Bo4cm * K\n",
    "Kr5cm = B_Bo5cm * K\n",
    "\n",
    "print(\"Kr 4cm\", Kr4cm)\n",
    "print(\"Kr 5cm\", Kr5cm)"
   ]
  },
  {
   "cell_type": "code",
   "execution_count": 8,
   "metadata": {
    "collapsed": false
   },
   "outputs": [
    {
     "name": "stdout",
     "output_type": "stream",
     "text": [
      "Be4cm (-621 +/- 3)*10^(-7)\n",
      "Be5cm (-506 +/- 2)*10^(-7)\n",
      "Bt4cm (1140 +/- 2)*10^(-6)\n",
      "Bt5cm (901 +/- 2)*10^(-6)\n",
      "Be (-564 +/- 2)*10^(-7)\n"
     ]
    }
   ],
   "source": [
    "# Calculating Bt and Be\n",
    "\n",
    "Be4cm = Kr4cm/2 * (currents[0] - currents[1])\n",
    "print(\"Be4cm\", Be4cm.get_error_weighted_mean())\n",
    "Be5cm = Kr5cm/2 * (currents[-2] - currents[-1])\n",
    "print(\"Be5cm\", Be5cm.get_error_weighted_mean())\n",
    "\n",
    "Bt4cm = Kr4cm/2 * (currents[0] + currents[1])\n",
    "print(\"Bt4cm\", Bt4cm.get_error_weighted_mean())\n",
    "Bt5cm = Kr5cm/2 * (currents[-2] + currents[-1])\n",
    "print(\"Bt5cm\", Bt5cm.get_error_weighted_mean())\n",
    "\n",
    "Be = (Be4cm.get_error_weighted_mean() + Be5cm.get_error_weighted_mean())/2\n",
    "print(\"Be\", Be)"
   ]
  },
  {
   "cell_type": "code",
   "execution_count": 9,
   "metadata": {
    "collapsed": false
   },
   "outputs": [
    {
     "name": "stdout",
     "output_type": "stream",
     "text": [
      "(171 +/- 4)*10^(9)\n"
     ]
    }
   ],
   "source": [
    "# em for 4cm\n",
    "V4cm = (voltages[0] + voltage[1])/2\n",
    "e_m4cm = 2*V4cm / (Bt4cm * r4cm/100)**2\n",
    "\n",
    "print(e_m4cm.get_error_weighted_mean())"
   ]
  },
  {
   "cell_type": "code",
   "execution_count": 10,
   "metadata": {
    "collapsed": false
   },
   "outputs": [
    {
     "name": "stdout",
     "output_type": "stream",
     "text": [
      "(188 +/- 3)*10^(9)\n"
     ]
    }
   ],
   "source": [
    "# em for 8cm\n",
    "V5cm = (voltages[-1] + voltages[-2])/2\n",
    "e_m5cm = 2*V5cm / (Bt5cm * r5cm/100)**2\n",
    "\n",
    "print(e_m5cm.get_error_weighted_mean())"
   ]
  },
  {
   "cell_type": "code",
   "execution_count": 11,
   "metadata": {
    "collapsed": false
   },
   "outputs": [
    {
     "name": "stdout",
     "output_type": "stream",
     "text": [
      "(180 +/- 2)*10^(9)\n"
     ]
    }
   ],
   "source": [
    "e_m = (e_m4cm.get_error_weighted_mean() + e_m5cm.get_error_weighted_mean())/2\n",
    "print(e_m)"
   ]
  },
  {
   "cell_type": "code",
   "execution_count": 17,
   "metadata": {
    "collapsed": false
   },
   "outputs": [
    {
     "name": "stdout",
     "output_type": "stream",
     "text": [
      "(77 +/- 2)*10^(-5)\n"
     ]
    }
   ],
   "source": [
    "from numpy import pi\n",
    "n = 130\n",
    "\n",
    "b = q.Measurement(15, 0.5)/2\n",
    "mu = 4*pi*1e-7\n",
    "K = mu *n*(R/100)**2/((R/100)**2 + (b/100)**2)**(3/2)\n",
    "print(K)"
   ]
  },
  {
   "cell_type": "code",
   "execution_count": null,
   "metadata": {
    "collapsed": true
   },
   "outputs": [],
   "source": []
  }
 ],
 "metadata": {
  "kernelspec": {
   "display_name": "Python 3",
   "language": "python",
   "name": "python3"
  },
  "language_info": {
   "codemirror_mode": {
    "name": "ipython",
    "version": 3
   },
   "file_extension": ".py",
   "mimetype": "text/x-python",
   "name": "python",
   "nbconvert_exporter": "python",
   "pygments_lexer": "ipython3",
   "version": "3.6.0"
  }
 },
 "nbformat": 4,
 "nbformat_minor": 2
}
