{
 "cells": [
  {
   "cell_type": "markdown",
   "metadata": {},
   "source": [
    "# Lab 9: Hysteresis\n",
    "## Murtadha Aldallal\n",
    "\n",
    "- 54621A Oscilliscope was connected to the circuit displayed in figures 1 and 2\n",
    "\n",
    "- Powerstat variable auto transformer type 116b was used to vary the voltage applied\n",
    "\n",
    "- B was displayed as a function of H, where B is the magnetic field \n",
    "\n",
    "\n",
    "<img src=\"HB.png\" Height=\"30%\">\n",
    "Figure 1: H and B directinos in the yolk\n",
    "\n",
    "\n",
    "- The oscilliscope was set to display channel 2 as a function of channel 1.\n",
    "- Variac Level at 50.3 V\n",
    "- 7.5 sub divisions  displayed with a setting with Horizontal and vertical sensetivity of 200 mV/division\n",
    "- Amplitude of 325 mV.0\n",
    "- The oscilliscope was switched back into a time domain, with 5ms per division\n",
    "- CSV file of the waveform was collected using a floppy disk with 2000 data points. the data was extracted from a computer\n",
    "- The X data must be horizontally flipped due to the transformer iron metal piece being configured backwards\n",
    "- in XY mode, starting from 0, the variac voltage was gradually increased while recording the progression of the upper right corner. \n",
    "- A scale of 10 mV in Y and 20 mV in X was used Initially\n",
    "- The cursors method on the oscilliscope was used to determine the progression of the upper right corner\n",
    "\n",
    "<img src=\"Apparatus.png\" width=\"50%\">\n",
    "Figure 2: Apparatus drawing\n",
    "<img src=\"Circuit.png\">\n",
    "Figure 3: Hysteresis loop circuit\n"
   ]
  },
  {
   "cell_type": "code",
   "execution_count": 16,
   "metadata": {
    "collapsed": false
   },
   "outputs": [
    {
     "name": "stdout",
     "output_type": "stream",
     "text": [
      "Table 1: Progression of upper right corner as a function of variac voltage\n"
     ]
    },
    {
     "data": {
      "text/html": [
       "<div>\n",
       "<table border=\"1\" class=\"dataframe\">\n",
       "  <thead>\n",
       "    <tr style=\"text-align: right;\">\n",
       "      <th></th>\n",
       "      <th>Variac Voltage [V]</th>\n",
       "      <th>Top-right corner X [mV]</th>\n",
       "      <th>Top-right corner Y [mV]</th>\n",
       "      <th>x scale [mV/div]</th>\n",
       "      <th>y scale [mV/div]</th>\n",
       "      <th>Error in x [mV]</th>\n",
       "      <th>Error in y [mV]</th>\n",
       "    </tr>\n",
       "  </thead>\n",
       "  <tbody>\n",
       "    <tr>\n",
       "      <th>0</th>\n",
       "      <td>3</td>\n",
       "      <td>13.75</td>\n",
       "      <td>26.87</td>\n",
       "      <td>5</td>\n",
       "      <td>10</td>\n",
       "      <td>0.5</td>\n",
       "      <td>1</td>\n",
       "    </tr>\n",
       "    <tr>\n",
       "      <th>1</th>\n",
       "      <td>5</td>\n",
       "      <td>18.25</td>\n",
       "      <td>43.75</td>\n",
       "      <td>5</td>\n",
       "      <td>20</td>\n",
       "      <td>0.5</td>\n",
       "      <td>2</td>\n",
       "    </tr>\n",
       "    <tr>\n",
       "      <th>2</th>\n",
       "      <td>7</td>\n",
       "      <td>21.00</td>\n",
       "      <td>56.25</td>\n",
       "      <td>5</td>\n",
       "      <td>20</td>\n",
       "      <td>0.5</td>\n",
       "      <td>2</td>\n",
       "    </tr>\n",
       "    <tr>\n",
       "      <th>3</th>\n",
       "      <td>10</td>\n",
       "      <td>25.50</td>\n",
       "      <td>72.50</td>\n",
       "      <td>5</td>\n",
       "      <td>20</td>\n",
       "      <td>0.5</td>\n",
       "      <td>2</td>\n",
       "    </tr>\n",
       "    <tr>\n",
       "      <th>4</th>\n",
       "      <td>13</td>\n",
       "      <td>33.50</td>\n",
       "      <td>95.30</td>\n",
       "      <td>10</td>\n",
       "      <td>50</td>\n",
       "      <td>1.0</td>\n",
       "      <td>5</td>\n",
       "    </tr>\n",
       "    <tr>\n",
       "      <th>5</th>\n",
       "      <td>17</td>\n",
       "      <td>42.00</td>\n",
       "      <td>118.80</td>\n",
       "      <td>10</td>\n",
       "      <td>50</td>\n",
       "      <td>1.0</td>\n",
       "      <td>5</td>\n",
       "    </tr>\n",
       "    <tr>\n",
       "      <th>6</th>\n",
       "      <td>20</td>\n",
       "      <td>50.50</td>\n",
       "      <td>139.10</td>\n",
       "      <td>10</td>\n",
       "      <td>50</td>\n",
       "      <td>1.0</td>\n",
       "      <td>5</td>\n",
       "    </tr>\n",
       "    <tr>\n",
       "      <th>7</th>\n",
       "      <td>23</td>\n",
       "      <td>61.50</td>\n",
       "      <td>160.90</td>\n",
       "      <td>10</td>\n",
       "      <td>50</td>\n",
       "      <td>1.0</td>\n",
       "      <td>5</td>\n",
       "    </tr>\n",
       "    <tr>\n",
       "      <th>8</th>\n",
       "      <td>25</td>\n",
       "      <td>68.00</td>\n",
       "      <td>170.30</td>\n",
       "      <td>20</td>\n",
       "      <td>50</td>\n",
       "      <td>2.0</td>\n",
       "      <td>5</td>\n",
       "    </tr>\n",
       "    <tr>\n",
       "      <th>9</th>\n",
       "      <td>30</td>\n",
       "      <td>88.00</td>\n",
       "      <td>196.90</td>\n",
       "      <td>20</td>\n",
       "      <td>100</td>\n",
       "      <td>2.0</td>\n",
       "      <td>10</td>\n",
       "    </tr>\n",
       "    <tr>\n",
       "      <th>10</th>\n",
       "      <td>35</td>\n",
       "      <td>120.00</td>\n",
       "      <td>228.10</td>\n",
       "      <td>20</td>\n",
       "      <td>100</td>\n",
       "      <td>2.0</td>\n",
       "      <td>10</td>\n",
       "    </tr>\n",
       "    <tr>\n",
       "      <th>11</th>\n",
       "      <td>40</td>\n",
       "      <td>167.50</td>\n",
       "      <td>259.40</td>\n",
       "      <td>50</td>\n",
       "      <td>100</td>\n",
       "      <td>5.0</td>\n",
       "      <td>10</td>\n",
       "    </tr>\n",
       "    <tr>\n",
       "      <th>12</th>\n",
       "      <td>45</td>\n",
       "      <td>227.50</td>\n",
       "      <td>284.40</td>\n",
       "      <td>50</td>\n",
       "      <td>100</td>\n",
       "      <td>5.0</td>\n",
       "      <td>10</td>\n",
       "    </tr>\n",
       "    <tr>\n",
       "      <th>13</th>\n",
       "      <td>50</td>\n",
       "      <td>315.00</td>\n",
       "      <td>303.10</td>\n",
       "      <td>100</td>\n",
       "      <td>100</td>\n",
       "      <td>10.0</td>\n",
       "      <td>10</td>\n",
       "    </tr>\n",
       "    <tr>\n",
       "      <th>14</th>\n",
       "      <td>55</td>\n",
       "      <td>460.00</td>\n",
       "      <td>318.80</td>\n",
       "      <td>100</td>\n",
       "      <td>100</td>\n",
       "      <td>10.0</td>\n",
       "      <td>10</td>\n",
       "    </tr>\n",
       "  </tbody>\n",
       "</table>\n",
       "</div>"
      ],
      "text/plain": [
       "    Variac Voltage [V]  Top-right corner X [mV]  Top-right corner Y [mV]  \\\n",
       "0                    3                    13.75                    26.87   \n",
       "1                    5                    18.25                    43.75   \n",
       "2                    7                    21.00                    56.25   \n",
       "3                   10                    25.50                    72.50   \n",
       "4                   13                    33.50                    95.30   \n",
       "5                   17                    42.00                   118.80   \n",
       "6                   20                    50.50                   139.10   \n",
       "7                   23                    61.50                   160.90   \n",
       "8                   25                    68.00                   170.30   \n",
       "9                   30                    88.00                   196.90   \n",
       "10                  35                   120.00                   228.10   \n",
       "11                  40                   167.50                   259.40   \n",
       "12                  45                   227.50                   284.40   \n",
       "13                  50                   315.00                   303.10   \n",
       "14                  55                   460.00                   318.80   \n",
       "\n",
       "    x scale [mV/div]  y scale [mV/div]  Error in x [mV]  Error in y [mV]  \n",
       "0                  5                10              0.5                1  \n",
       "1                  5                20              0.5                2  \n",
       "2                  5                20              0.5                2  \n",
       "3                  5                20              0.5                2  \n",
       "4                 10                50              1.0                5  \n",
       "5                 10                50              1.0                5  \n",
       "6                 10                50              1.0                5  \n",
       "7                 10                50              1.0                5  \n",
       "8                 20                50              2.0                5  \n",
       "9                 20               100              2.0               10  \n",
       "10                20               100              2.0               10  \n",
       "11                50               100              5.0               10  \n",
       "12                50               100              5.0               10  \n",
       "13               100               100             10.0               10  \n",
       "14               100               100             10.0               10  "
      ]
     },
     "execution_count": 16,
     "metadata": {},
     "output_type": "execute_result"
    }
   ],
   "source": [
    "import pandas as pd\n",
    "progression_data = pd.read_csv(\"Progression.csv\")\n",
    "print(\"Table 1: Progression of upper right corner as a function of variac voltage\")\n",
    "progression_data\n"
   ]
  },
  {
   "cell_type": "markdown",
   "metadata": {},
   "source": [
    "- The magnetic field prevented us from lifting the iron sample after turning off the variac"
   ]
  },
  {
   "cell_type": "markdown",
   "metadata": {},
   "source": [
    "- The Variac voltage variation steps were repeated for a carbon steel sample without recording the progression values"
   ]
  },
  {
   "cell_type": "markdown",
   "metadata": {},
   "source": [
    "- The carbon steel sample was heated up due to energy loss, it was observed to be a similar order of magnitude as a bulb, estimate of around 60 W"
   ]
  },
  {
   "cell_type": "markdown",
   "metadata": {},
   "source": [
    "Yoke Height = 102 mm +/- 0.5 mm\n",
    "\n",
    "\n",
    "Yoke base = 27 mm +/- 0.5 mm\n",
    "\n",
    "\n",
    "Yoke middle to middle = 78 mm +/- 0.5 mm\n",
    "\n",
    "Cross sectional area of the Iron sample is:\n",
    "\n",
    "\n",
    "L1 = 27mm + (0.02mm*5.6) = 27.11mm +/- 0.01 mm\n",
    "\n",
    "\n",
    "L2 = 28.000mm  +- 0.01 mm\n",
    "\n",
    "\n",
    "A = 759.14 +- 0.5 mm^2\n",
    "\n",
    "Length of Iron configuration: "
   ]
  },
  {
   "cell_type": "code",
   "execution_count": 15,
   "metadata": {
    "collapsed": false
   },
   "outputs": [
    {
     "name": "stdout",
     "output_type": "stream",
     "text": [
      "Liron = 333 +/- 5mm\n",
      "Area = 759.08 +- 0.5 mm^2\n"
     ]
    }
   ],
   "source": [
    "yoke_height = 102\n",
    "yoke_base = 27\n",
    "yoke_middle = 78\n",
    "\n",
    "Liron = 2*(yoke_height - yoke_base) + yoke_base + 2*yoke_middle\n",
    "print(\"Liron =\", Liron, \"+/- 5mm\")\n",
    "print(\"Area = {:.2f} +- 0.5 mm^2\".format(27.11 * 28))"
   ]
  },
  {
   "cell_type": "markdown",
   "metadata": {},
   "source": [
    "Cross sectional area of the carbon steel sample is : \n",
    "\n",
    "\n",
    "L1 = 28mm + (0.02mm*7.2) = 28.14 mm +/- 0.01 mm\n",
    "\n",
    "\n",
    "L2 = 30.000 mm\n",
    "\n",
    "\n",
    "A = 844.32 mm^2"
   ]
  },
  {
   "cell_type": "markdown",
   "metadata": {},
   "source": [
    "Finally, a copper and plastic spacer were placed between the yolk and the iron sample once at a time. The copper spacer and plastic spacer produced the images displayed in the figure below\n"
   ]
  },
  {
   "cell_type": "markdown",
   "metadata": {},
   "source": [
    "<img src=\"copper.jpg\">\n",
    "Figure 4: Plastic spacers shape of the hysteresis loop"
   ]
  },
  {
   "cell_type": "markdown",
   "metadata": {},
   "source": [
    "<img src=\"plastic.jpg\">\n",
    "Figure 5: Copper spacers shape of the hysteresis loop"
   ]
  },
  {
   "cell_type": "code",
   "execution_count": null,
   "metadata": {
    "collapsed": true
   },
   "outputs": [],
   "source": []
  }
 ],
 "metadata": {
  "kernelspec": {
   "display_name": "Python 3",
   "language": "python",
   "name": "python3"
  },
  "language_info": {
   "codemirror_mode": {
    "name": "ipython",
    "version": 3
   },
   "file_extension": ".py",
   "mimetype": "text/x-python",
   "name": "python",
   "nbconvert_exporter": "python",
   "pygments_lexer": "ipython3",
   "version": "3.6.1"
  }
 },
 "nbformat": 4,
 "nbformat_minor": 2
}
