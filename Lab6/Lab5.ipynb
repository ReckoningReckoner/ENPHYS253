{
 "cells": [
  {
   "cell_type": "markdown",
   "metadata": {},
   "source": [
    "# Lab 5 : Young's modulus of steel\n",
    "February 2nd, 2017\n",
    "\n",
    "Procedure:\n",
    "i) The micrometer was first set so that the level was even. The measurement was recorded as the origin for the measurements that followed. 100 grams were added into the pan and the micrometer was adjusted to re-centre the level. The reading was then recorded and this was repeated while adding 100g each time up to 1kg. After the measurements were taken the 50g weight was removed and the micrometer reading was recorded. This was repeated while removing 100g each time until 50g was reached. The length of the wire was then measured using a 2 metre stick and the thickness was measured by taking three separate measurements using a micrometer and the taking the average. \n",
    "\n",
    "ii) The mass was first struck using the rubber malet. Once the osciliscope displayed a period shape the signal was frozen. The number of complete cycles on the screen was then recorded along with the total time duration of the cycles. The amplitude of the oscillations was also recorded (by looking at the largest amplitude on screen).\n",
    "\n",
    "Zero: 0.170mm +/- 0.005 mm\n",
    "\n",
    "Length of wire for part 1: 1.74 +/- 0.005 m\n",
    "Length of Wire for part 2: 1.09 +/- 0.005 m\n",
    "Total Length: 2.83 +/- 0.01 m\n",
    "\n"
   ]
  },
  {
   "cell_type": "markdown",
   "metadata": {},
   "source": [
    "## Static Method"
   ]
  },
  {
   "cell_type": "code",
   "execution_count": 41,
   "metadata": {
    "collapsed": false
   },
   "outputs": [
    {
     "data": {
      "text/html": [
       "<div>\n",
       "<table border=\"1\" class=\"dataframe\">\n",
       "  <thead>\n",
       "    <tr style=\"text-align: right;\">\n",
       "      <th></th>\n",
       "      <th>Mass (kg)</th>\n",
       "      <th>Micrometer Extension [mm] +/- 0.005</th>\n",
       "    </tr>\n",
       "  </thead>\n",
       "  <tbody>\n",
       "    <tr>\n",
       "      <th>0</th>\n",
       "      <td>0.1</td>\n",
       "      <td>0.06</td>\n",
       "    </tr>\n",
       "    <tr>\n",
       "      <th>1</th>\n",
       "      <td>0.2</td>\n",
       "      <td>0.13</td>\n",
       "    </tr>\n",
       "    <tr>\n",
       "      <th>2</th>\n",
       "      <td>0.3</td>\n",
       "      <td>0.19</td>\n",
       "    </tr>\n",
       "    <tr>\n",
       "      <th>3</th>\n",
       "      <td>0.4</td>\n",
       "      <td>0.27</td>\n",
       "    </tr>\n",
       "    <tr>\n",
       "      <th>4</th>\n",
       "      <td>0.5</td>\n",
       "      <td>0.34</td>\n",
       "    </tr>\n",
       "    <tr>\n",
       "      <th>5</th>\n",
       "      <td>0.6</td>\n",
       "      <td>0.40</td>\n",
       "    </tr>\n",
       "    <tr>\n",
       "      <th>6</th>\n",
       "      <td>0.7</td>\n",
       "      <td>0.47</td>\n",
       "    </tr>\n",
       "    <tr>\n",
       "      <th>7</th>\n",
       "      <td>0.8</td>\n",
       "      <td>0.56</td>\n",
       "    </tr>\n",
       "    <tr>\n",
       "      <th>8</th>\n",
       "      <td>0.9</td>\n",
       "      <td>0.61</td>\n",
       "    </tr>\n",
       "    <tr>\n",
       "      <th>9</th>\n",
       "      <td>1.0</td>\n",
       "      <td>0.77</td>\n",
       "    </tr>\n",
       "  </tbody>\n",
       "</table>\n",
       "</div>"
      ],
      "text/plain": [
       "   Mass (kg)  Micrometer Extension [mm] +/- 0.005\n",
       "0        0.1                                 0.06\n",
       "1        0.2                                 0.13\n",
       "2        0.3                                 0.19\n",
       "3        0.4                                 0.27\n",
       "4        0.5                                 0.34\n",
       "5        0.6                                 0.40\n",
       "6        0.7                                 0.47\n",
       "7        0.8                                 0.56\n",
       "8        0.9                                 0.61\n",
       "9        1.0                                 0.77"
      ]
     },
     "execution_count": 41,
     "metadata": {},
     "output_type": "execute_result"
    }
   ],
   "source": [
    "import pandas as pd\n",
    "import matplotlib.pyplot as plt \n",
    "import numpy as np\n",
    "statictable = pd.read_excel('Lab5/staticmethoddata.xlsx')\n",
    "statictablereverse = pd.read_excel('Lab5/staticreverse.xlsx')\n",
    "staticdata = statictable.as_matrix()\n",
    "staticdatareverse = statictablereverse.as_matrix()\n",
    "zero = 0.170\n",
    "staticdata[:, 1] -= zero\n",
    "staticdatareverse[:,1] -= zero\n",
    "statictable"
   ]
  },
  {
   "cell_type": "code",
   "execution_count": 32,
   "metadata": {
    "collapsed": false
   },
   "outputs": [
    {
     "data": {
      "text/html": [
       "<div>\n",
       "<table border=\"1\" class=\"dataframe\">\n",
       "  <thead>\n",
       "    <tr style=\"text-align: right;\">\n",
       "      <th></th>\n",
       "      <th>mass [kg]</th>\n",
       "      <th>micrometer measurement [mm]</th>\n",
       "    </tr>\n",
       "  </thead>\n",
       "  <tbody>\n",
       "    <tr>\n",
       "      <th>0</th>\n",
       "      <td>0.95</td>\n",
       "      <td>0.63</td>\n",
       "    </tr>\n",
       "    <tr>\n",
       "      <th>1</th>\n",
       "      <td>0.85</td>\n",
       "      <td>0.57</td>\n",
       "    </tr>\n",
       "    <tr>\n",
       "      <th>2</th>\n",
       "      <td>0.75</td>\n",
       "      <td>0.50</td>\n",
       "    </tr>\n",
       "    <tr>\n",
       "      <th>3</th>\n",
       "      <td>0.65</td>\n",
       "      <td>0.45</td>\n",
       "    </tr>\n",
       "    <tr>\n",
       "      <th>4</th>\n",
       "      <td>0.55</td>\n",
       "      <td>0.37</td>\n",
       "    </tr>\n",
       "    <tr>\n",
       "      <th>5</th>\n",
       "      <td>0.45</td>\n",
       "      <td>0.30</td>\n",
       "    </tr>\n",
       "    <tr>\n",
       "      <th>6</th>\n",
       "      <td>0.35</td>\n",
       "      <td>0.24</td>\n",
       "    </tr>\n",
       "    <tr>\n",
       "      <th>7</th>\n",
       "      <td>0.25</td>\n",
       "      <td>0.17</td>\n",
       "    </tr>\n",
       "    <tr>\n",
       "      <th>8</th>\n",
       "      <td>0.15</td>\n",
       "      <td>0.09</td>\n",
       "    </tr>\n",
       "    <tr>\n",
       "      <th>9</th>\n",
       "      <td>0.05</td>\n",
       "      <td>0.02</td>\n",
       "    </tr>\n",
       "  </tbody>\n",
       "</table>\n",
       "</div>"
      ],
      "text/plain": [
       "   mass [kg]  micrometer measurement [mm]\n",
       "0       0.95                         0.63\n",
       "1       0.85                         0.57\n",
       "2       0.75                         0.50\n",
       "3       0.65                         0.45\n",
       "4       0.55                         0.37\n",
       "5       0.45                         0.30\n",
       "6       0.35                         0.24\n",
       "7       0.25                         0.17\n",
       "8       0.15                         0.09\n",
       "9       0.05                         0.02"
      ]
     },
     "execution_count": 32,
     "metadata": {},
     "output_type": "execute_result"
    }
   ],
   "source": [
    "print('')\n",
    "statictablereverse\n"
   ]
  },
  {
   "cell_type": "code",
   "execution_count": 33,
   "metadata": {
    "collapsed": false
   },
   "outputs": [
    {
     "data": {
      "image/png": "[encoded data removed]",
      "text/plain": [
       "<matplotlib.figure.Figure at 0x1fb68b16978>"
      ]
     },
     "metadata": {},
     "output_type": "display_data"
    }
   ],
   "source": [
    "plt.plot(staticdata[:,0],staticdata[:,1],'or',label='Increasing Measurements')\n",
    "plt.plot(staticdatareverse[:,0],staticdatareverse[:,1],'ob',label='Decreasing Measurements')\n",
    "plt.xlabel('Mass [kg]')\n",
    "plt.ylabel('Extension [mm]')\n",
    "plt.title('Extension vs. Mass')\n",
    "plt.legend()\n",
    "plt.show()"
   ]
  },
  {
   "cell_type": "code",
   "execution_count": 47,
   "metadata": {
    "collapsed": false
   },
   "outputs": [
    {
     "name": "stdout",
     "output_type": "stream",
     "text": [
      "Table 3: Wire thickness measurments\n"
     ]
    },
    {
     "data": {
      "text/html": [
       "<div>\n",
       "<table border=\"1\" class=\"dataframe\">\n",
       "  <thead>\n",
       "    <tr style=\"text-align: right;\">\n",
       "      <th></th>\n",
       "      <th>wire measurement</th>\n",
       "      <th>thickness [mm] +/- 0.005 mm</th>\n",
       "      <th>rotations (0.5mm)</th>\n",
       "      <th>subdivisions (0.01mm)</th>\n",
       "    </tr>\n",
       "  </thead>\n",
       "  <tbody>\n",
       "    <tr>\n",
       "      <th>0</th>\n",
       "      <td>1</td>\n",
       "      <td>0.51</td>\n",
       "      <td>1</td>\n",
       "      <td>1</td>\n",
       "    </tr>\n",
       "    <tr>\n",
       "      <th>1</th>\n",
       "      <td>2</td>\n",
       "      <td>0.52</td>\n",
       "      <td>1</td>\n",
       "      <td>2</td>\n",
       "    </tr>\n",
       "    <tr>\n",
       "      <th>2</th>\n",
       "      <td>3</td>\n",
       "      <td>0.52</td>\n",
       "      <td>1</td>\n",
       "      <td>2</td>\n",
       "    </tr>\n",
       "  </tbody>\n",
       "</table>\n",
       "</div>"
      ],
      "text/plain": [
       "   wire measurement  thickness [mm] +/- 0.005 mm  rotations (0.5mm)  \\\n",
       "0                 1                         0.51                  1   \n",
       "1                 2                         0.52                  1   \n",
       "2                 3                         0.52                  1   \n",
       "\n",
       "   subdivisions (0.01mm)  \n",
       "0                      1  \n",
       "1                      2  \n",
       "2                      2  "
      ]
     },
     "execution_count": 47,
     "metadata": {},
     "output_type": "execute_result"
    }
   ],
   "source": [
    "wiretable = pd.read_excel('Lab5/thickness.xlsx')\n",
    "print('Table 3: Wire thickness measurments')\n",
    "wiredata = wiretable.as_matrix()\n",
    "wiretable"
   ]
  },
  {
   "cell_type": "code",
   "execution_count": null,
   "metadata": {
    "collapsed": true
   },
   "outputs": [],
   "source": [
    "#Finding E\n",
    "d = wiredata[:,1].mean()\n",
    "m = staticdata[:,0]\n",
    "dl = staticdata[:,1]/1000\n",
    "l = 2.83\n",
    "E = (4*m*9.81*l)/(dl*np.pi*d^)"
   ]
  },
  {
   "cell_type": "markdown",
   "metadata": {},
   "source": [
    "## Dynamic method"
   ]
  },
  {
   "cell_type": "markdown",
   "metadata": {},
   "source": [
    "wire length = 2.38 +/- 0.01 m"
   ]
  },
  {
   "cell_type": "code",
   "execution_count": null,
   "metadata": {
    "collapsed": true
   },
   "outputs": [],
   "source": []
  }
 ],
 "metadata": {
  "kernelspec": {
   "display_name": "Python 3",
   "language": "python",
   "name": "python3"
  },
  "language_info": {
   "codemirror_mode": {
    "name": "ipython",
    "version": 3
   },
   "file_extension": ".py",
   "mimetype": "text/x-python",
   "name": "python",
   "nbconvert_exporter": "python",
   "pygments_lexer": "ipython3",
   "version": "3.6.0"
  }
 },
 "nbformat": 4,
 "nbformat_minor": 1
}
