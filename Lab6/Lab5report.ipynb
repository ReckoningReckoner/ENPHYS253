{
 "cells": [
  {
   "cell_type": "code",
   "execution_count": 1,
   "metadata": {
    "collapsed": false
   },
   "outputs": [
    {
     "data": {
      "text/html": [
       "\n",
       "    <div class=\"bk-root\">\n",
       "        <a href=\"http://bokeh.pydata.org\" target=\"_blank\" class=\"bk-logo bk-logo-small bk-logo-notebook\"></a>\n",
       "        <span id=\"22e89940-0fff-41e3-a7bb-500c44ab4be9\">Loading BokehJS ...</span>\n",
       "    </div>"
      ]
     },
     "metadata": {},
     "output_type": "display_data"
    },
    {
     "data": {
      "application/javascript": [
       "\n",
       "(function(global) {\n",
       "  function now() {\n",
       "    return new Date();\n",
       "  }\n",
       "\n",
       "  var force = true;\n",
       "\n",
       "  if (typeof (window._bokeh_onload_callbacks) === \"undefined\" || force === true) {\n",
       "    window._bokeh_onload_callbacks = [];\n",
       "    window._bokeh_is_loading = undefined;\n",
       "  }\n",
       "\n",
       "\n",
       "  \n",
       "  if (typeof (window._bokeh_timeout) === \"undefined\" || force === true) {\n",
       "    window._bokeh_timeout = Date.now() + 5000;\n",
       "    window._bokeh_failed_load = false;\n",
       "  }\n",
       "\n",
       "  var NB_LOAD_WARNING = {'data': {'text/html':\n",
       "     \"<div style='background-color: #fdd'>\\n\"+\n",
       "     \"<p>\\n\"+\n",
       "     \"BokehJS does not appear to have successfully loaded. If loading BokehJS from CDN, this \\n\"+\n",
       "     \"may be due to a slow or bad network connection. Possible fixes:\\n\"+\n",
       "     \"</p>\\n\"+\n",
       "     \"<ul>\\n\"+\n",
       "     \"<li>re-rerun `output_notebook()` to attempt to load from CDN again, or</li>\\n\"+\n",
       "     \"<li>use INLINE resources instead, as so:</li>\\n\"+\n",
       "     \"</ul>\\n\"+\n",
       "     \"<code>\\n\"+\n",
       "     \"from bokeh.resources import INLINE\\n\"+\n",
       "     \"output_notebook(resources=INLINE)\\n\"+\n",
       "     \"</code>\\n\"+\n",
       "     \"</div>\"}};\n",
       "\n",
       "  function display_loaded() {\n",
       "    if (window.Bokeh !== undefined) {\n",
       "      document.getElementById(\"22e89940-0fff-41e3-a7bb-500c44ab4be9\").textContent = \"BokehJS successfully loaded.\";\n",
       "    } else if (Date.now() < window._bokeh_timeout) {\n",
       "      setTimeout(display_loaded, 100)\n",
       "    }\n",
       "  }\n",
       "\n",
       "  function run_callbacks() {\n",
       "    window._bokeh_onload_callbacks.forEach(function(callback) { callback() });\n",
       "    delete window._bokeh_onload_callbacks\n",
       "    console.info(\"Bokeh: all callbacks have finished\");\n",
       "  }\n",
       "\n",
       "  function load_libs(js_urls, callback) {\n",
       "    window._bokeh_onload_callbacks.push(callback);\n",
       "    if (window._bokeh_is_loading > 0) {\n",
       "      console.log(\"Bokeh: BokehJS is being loaded, scheduling callback at\", now());\n",
       "      return null;\n",
       "    }\n",
       "    if (js_urls == null || js_urls.length === 0) {\n",
       "      run_callbacks();\n",
       "      return null;\n",
       "    }\n",
       "    console.log(\"Bokeh: BokehJS not loaded, scheduling load and callback at\", now());\n",
       "    window._bokeh_is_loading = js_urls.length;\n",
       "    for (var i = 0; i < js_urls.length; i++) {\n",
       "      var url = js_urls[i];\n",
       "      var s = document.createElement('script');\n",
       "      s.src = url;\n",
       "      s.async = false;\n",
       "      s.onreadystatechange = s.onload = function() {\n",
       "        window._bokeh_is_loading--;\n",
       "        if (window._bokeh_is_loading === 0) {\n",
       "          console.log(\"Bokeh: all BokehJS libraries loaded\");\n",
       "          run_callbacks()\n",
       "        }\n",
       "      };\n",
       "      s.onerror = function() {\n",
       "        console.warn(\"failed to load library \" + url);\n",
       "      };\n",
       "      console.log(\"Bokeh: injecting script tag for BokehJS library: \", url);\n",
       "      document.getElementsByTagName(\"head\")[0].appendChild(s);\n",
       "    }\n",
       "  };var element = document.getElementById(\"22e89940-0fff-41e3-a7bb-500c44ab4be9\");\n",
       "  if (element == null) {\n",
       "    console.log(\"Bokeh: ERROR: autoload.js configured with elementid '22e89940-0fff-41e3-a7bb-500c44ab4be9' but no matching script tag was found. \")\n",
       "    return false;\n",
       "  }\n",
       "\n",
       "  var js_urls = [\"https://cdn.pydata.org/bokeh/release/bokeh-0.12.4.min.js\", \"https://cdn.pydata.org/bokeh/release/bokeh-widgets-0.12.4.min.js\"];\n",
       "\n",
       "  var inline_js = [\n",
       "    function(Bokeh) {\n",
       "      Bokeh.set_log_level(\"info\");\n",
       "    },\n",
       "    \n",
       "    function(Bokeh) {\n",
       "      \n",
       "      document.getElementById(\"22e89940-0fff-41e3-a7bb-500c44ab4be9\").textContent = \"BokehJS is loading...\";\n",
       "    },\n",
       "    function(Bokeh) {\n",
       "      console.log(\"Bokeh: injecting CSS: https://cdn.pydata.org/bokeh/release/bokeh-0.12.4.min.css\");\n",
       "      Bokeh.embed.inject_css(\"https://cdn.pydata.org/bokeh/release/bokeh-0.12.4.min.css\");\n",
       "      console.log(\"Bokeh: injecting CSS: https://cdn.pydata.org/bokeh/release/bokeh-widgets-0.12.4.min.css\");\n",
       "      Bokeh.embed.inject_css(\"https://cdn.pydata.org/bokeh/release/bokeh-widgets-0.12.4.min.css\");\n",
       "    }\n",
       "  ];\n",
       "\n",
       "  function run_inline_js() {\n",
       "    \n",
       "    if ((window.Bokeh !== undefined) || (force === true)) {\n",
       "      for (var i = 0; i < inline_js.length; i++) {\n",
       "        inline_js[i](window.Bokeh);\n",
       "      }if (force === true) {\n",
       "        display_loaded();\n",
       "      }} else if (Date.now() < window._bokeh_timeout) {\n",
       "      setTimeout(run_inline_js, 100);\n",
       "    } else if (!window._bokeh_failed_load) {\n",
       "      console.log(\"Bokeh: BokehJS failed to load within specified timeout.\");\n",
       "      window._bokeh_failed_load = true;\n",
       "    } else if (force !== true) {\n",
       "      var cell = $(document.getElementById(\"22e89940-0fff-41e3-a7bb-500c44ab4be9\")).parents('.cell').data().cell;\n",
       "      cell.output_area.append_execute_result(NB_LOAD_WARNING)\n",
       "    }\n",
       "\n",
       "  }\n",
       "\n",
       "  if (window._bokeh_is_loading === 0) {\n",
       "    console.log(\"Bokeh: BokehJS loaded, going straight to plotting\");\n",
       "    run_inline_js();\n",
       "  } else {\n",
       "    load_libs(js_urls, function() {\n",
       "      console.log(\"Bokeh: BokehJS plotting callback run at\", now());\n",
       "      run_inline_js();\n",
       "    });\n",
       "  }\n",
       "}(this));"
      ]
     },
     "metadata": {},
     "output_type": "display_data"
    },
    {
     "name": "stdout",
     "output_type": "stream",
     "text": [
      "-----------------Fit results-------------------\n",
      "Fit of  dataset0  to  linear\n",
      "Fit parameters:\n",
      "dataset0_linear_fit0_fitpars_intercept = -0.71 +/- 0.01,\n",
      "dataset0_linear_fit0_fitpars_slope = 0.697 +/- 0.010\n",
      "\n",
      "Correlation matrix: \n",
      "[[ 1.    -0.986]\n",
      " [-0.986  1.   ]]\n",
      "\n",
      "chi2/ndof = 0.16/6\n",
      "---------------End fit results----------------\n",
      "\n",
      "-----------------Fit results-------------------\n",
      "Fit of  dataset1  to  linear\n",
      "Fit parameters:\n",
      "dataset1_linear_fit0_fitpars_intercept = -0.68 +/- 0.01,\n",
      "dataset1_linear_fit0_fitpars_slope = 0.679 +/- 0.009\n",
      "\n",
      "Correlation matrix: \n",
      "[[ 1.    -0.982]\n",
      " [-0.982  1.   ]]\n",
      "\n",
      "chi2/ndof = 0.21/7\n",
      "---------------End fit results----------------\n",
      "\n"
     ]
    },
    {
     "data": {
      "image/png": "[encoded data removed]",
      "text/plain": [
       "<matplotlib.figure.Figure at 0x10367e438>"
      ]
     },
     "metadata": {},
     "output_type": "display_data"
    }
   ],
   "source": [
    "import pandas as pd\n",
    "import matplotlib.pyplot as plt \n",
    "import numpy as np\n",
    "import qexpy as q\n",
    "\n",
    "statictable = pd.read_excel('Lab5/staticmethoddata.xlsx')\n",
    "statictablereverse = pd.read_excel('Lab5/staticreverse.xlsx')\n",
    "staticdata = statictable.as_matrix()\n",
    "staticdatareverse = statictablereverse.as_matrix()\n",
    "zero = 0.170\n",
    "\n",
    "staticdata[:, 0] += 1\n",
    "staticdatareverse[:, 0] += 1\n",
    "\n",
    "staticdata[:,1] -= zero\n",
    "staticdatareverse[:,1] -= zero\n",
    "\n",
    "plt.figure(figsize=(10,8))\n",
    "bincrease, mincrease = q.XYDataSet(xdata=staticdata[:-1,0],\n",
    "                                   ydata=staticdata[:-1,1],\n",
    "                                   yerr=0.05).fit(\"linear\")\n",
    "plt.errorbar(staticdata[:,0],\n",
    "             staticdata[:,1],\n",
    "             yerr=0.005,\n",
    "             fmt='.r',\n",
    "             label='Increasing Measurements')\n",
    "\n",
    "bdecrease, mdecrease = q.XYDataSet(xdata=staticdatareverse[:,0],\n",
    "                                   ydata=staticdatareverse[:,1],\n",
    "                                   yerr=0.05).fit(\"linear\")\n",
    "plt.errorbar(staticdatareverse[:,0],\n",
    "             staticdatareverse[:,1],\n",
    "             yerr=0.005,\n",
    "             fmt='*b',\n",
    "             label='Decreasing Measurements',\n",
    "             color='blue')\n",
    "\n",
    "plt.plot(staticdata[:,0],\n",
    "         staticdata[:,0] * mincrease.get_mean() + bincrease.get_mean(),\n",
    "         label=\"Linear Fit for Increasing Measurements\",\n",
    "         color='red')\n",
    "\n",
    "plt.plot(staticdatareverse[:,0],\n",
    "         staticdatareverse[:,0] * mdecrease.get_mean() + bdecrease.get_mean(),\n",
    "         label=\"Linear Fit for Decreasing Measurements\")\n",
    "\n",
    "\n",
    "plt.text(1.75, 0.45, \n",
    "         \"{:.2g} * Mass (Decreasing)+\\n {:.2g} = Extension\".format(mdecrease.get_mean(), bdecrease.get_mean()))\n",
    "plt.text(1.65, 0.6, \n",
    "         \"{:.2g} * Mass (Increasing)+\\n {:.2g} = Extension\".format(mincrease.get_mean(), bincrease.get_mean()))\n",
    "\n",
    "plt.xlabel('Mass [kg]')\n",
    "plt.ylabel('Extension [mm]')\n",
    "plt.title('Static Apparatus: Extension and Load of Increasing and Decreasing Measurements')\n",
    "plt.legend()\n",
    "plt.savefig('output/staticgraph.png', bbox_inches='tight')\n",
    "plt.show()"
   ]
  },
  {
   "cell_type": "code",
   "execution_count": 2,
   "metadata": {
    "collapsed": false
   },
   "outputs": [
    {
     "data": {
      "image/png": "[encoded data removed]",
      "text/plain": [
       "<matplotlib.figure.Figure at 0x10367e0b8>"
      ]
     },
     "metadata": {},
     "output_type": "display_data"
    }
   ],
   "source": [
    "plt.plot(staticdata[:-1,0],\n",
    "         (staticdata[:-1,1])\n",
    "         -(staticdata[:-1,0] * mincrease.get_mean() + bincrease.get_mean()),\n",
    "        'o',\n",
    "        color='red')\n",
    "plt.title(\"Residuals Plot For Increasing Load\")\n",
    "plt.savefig('output/residualsincrease.png', bbox_inches='tight')\n",
    "plt.show()"
   ]
  },
  {
   "cell_type": "code",
   "execution_count": 3,
   "metadata": {
    "collapsed": false
   },
   "outputs": [
    {
     "data": {
      "image/png": "[encoded data removed]",
      "text/plain": [
       "<matplotlib.figure.Figure at 0x10369c358>"
      ]
     },
     "metadata": {},
     "output_type": "display_data"
    }
   ],
   "source": [
    "plt.plot(staticdatareverse[:,0],\n",
    "         (staticdatareverse[:,1])\n",
    "         -(staticdatareverse[:,0] * mdecrease.get_mean() + bdecrease.get_mean()),\n",
    "        '*',\n",
    "        color='blue')\n",
    "\n",
    "plt.title(\"Residuals Plot For Decreasing Load\")\n",
    "plt.savefig('output/residualsdecrease.png', bbox_inches='tight')\n",
    "plt.show()"
   ]
  },
  {
   "cell_type": "code",
   "execution_count": 4,
   "metadata": {
    "collapsed": false
   },
   "outputs": [
    {
     "name": "stdout",
     "output_type": "stream",
     "text": [
      "-----------------Fit results-------------------\n",
      "Fit of  dataset2  to  linear\n",
      "Fit parameters:\n",
      "dataset2_linear_fit0_fitpars_intercept = -0.69 +/- 0.01,\n",
      "dataset2_linear_fit0_fitpars_slope = 0.686 +/- 0.007\n",
      "\n",
      "Correlation matrix: \n",
      "[[ 1.    -0.984]\n",
      " [-0.984  1.   ]]\n",
      "\n",
      "chi2/ndof = 0.42/16\n",
      "---------------End fit results----------------\n",
      "\n"
     ]
    },
    {
     "data": {
      "image/png": "[encoded data removed]",
      "text/plain": [
       "<matplotlib.figure.Figure at 0x1080c3a58>"
      ]
     },
     "metadata": {},
     "output_type": "display_data"
    }
   ],
   "source": [
    "plt.figure(figsize=(10,8))\n",
    "combined_datax = np.append(staticdata[:-1,0], staticdatareverse[:, 0])\n",
    "combined_datay = np.append(staticdata[:-1, 1], staticdatareverse[:, 1])\n",
    "\n",
    "bcombine, mcombine = q.XYDataSet(xdata=combined_datax,\n",
    "                                 ydata=combined_datay,\n",
    "                                 yerr=0.05).fit(\"linear\")\n",
    "plt.errorbar(combined_datax,\n",
    "             combined_datay,\n",
    "             yerr=0.005,\n",
    "             fmt='.g',\n",
    "             label='Increasing Measurements')\n",
    "plt.plot(combined_datax,\n",
    "         combined_datax * mcombine.get_mean() + bcombine.get_mean(),\n",
    "         label=\"Linear Fit for Increasing Measurements\",\n",
    "         color='green')\n",
    "\n",
    "plt.xlabel('Mass [kg]')\n",
    "plt.ylabel('Extension [mm]')\n",
    "plt.title('Static Apparatus: Extension and Load of Combined Measurements')\n",
    "plt.text(1.65, 0.6, \n",
    "         \"{:.2g} * Mass +\\n {:.2g} = Extension\".format(mcombine.get_mean(), bcombine.get_mean()))\n",
    "plt.savefig(\"output/combinedstaticgraph.png\")\n",
    "plt.show()"
   ]
  },
  {
   "cell_type": "code",
   "execution_count": 5,
   "metadata": {
    "collapsed": false
   },
   "outputs": [
    {
     "data": {
      "image/png": "[encoded data removed]",
      "text/plain": [
       "<matplotlib.figure.Figure at 0x10369ccf8>"
      ]
     },
     "metadata": {},
     "output_type": "display_data"
    }
   ],
   "source": [
    "plt.plot(combined_datax,\n",
    "         combined_datay\n",
    "         -(combined_datax * mcombine.get_mean() + bcombine.get_mean()),\n",
    "        'o',\n",
    "        color='green')\n",
    "plt.title(\"Residuals Plot For Increasing and Decreasing Load\")\n",
    "plt.savefig(\"output/residualscombined.png\")\n",
    "plt.show()"
   ]
  },
  {
   "cell_type": "code",
   "execution_count": 6,
   "metadata": {
    "collapsed": false
   },
   "outputs": [
    {
     "name": "stdout",
     "output_type": "stream",
     "text": [
      "192.93929366495556 8.15038210785735\n"
     ]
    },
    {
     "data": {
      "text/plain": [
       "0.01"
      ]
     },
     "execution_count": 6,
     "metadata": {},
     "output_type": "execute_result"
    }
   ],
   "source": [
    "slope = mcombine.get_mean()/1e3\n",
    "\n",
    "g = 9.81\n",
    "l1 = 2.83 # Length of Wire\n",
    "dl1 = 0.01 # Error in Length of Wire\n",
    "d1 = ((0.51+0.52+0.52)/3)/1e3 # Diameter of Wire in [m]\n",
    "dd1 = 0.01/1e3 # Error Diameter of Wire in [m]\n",
    "A = np.pi * (d1/2)**2 # Area of of Wire\n",
    "E = (1/(slope/g)* l1/A)/1e9\n",
    "\n",
    "dA = 2*dd1/d1 * A\n",
    "dE = E*(dl1/l1 + dA/A)\n",
    "print(E, dE)\n",
    "dd1*1e3"
   ]
  },
  {
   "cell_type": "markdown",
   "metadata": {},
   "source": [
    "$\\frac{F l}{\\Delta lA} = (\\frac{slope}{g})^{-1} \\frac{l}{A}$"
   ]
  },
  {
   "cell_type": "code",
   "execution_count": 7,
   "metadata": {
    "collapsed": false
   },
   "outputs": [
    {
     "name": "stdout",
     "output_type": "stream",
     "text": [
      "Stress: 9.54e+03 369\n",
      "Strain: 2.155e-04 7.6e-07\n"
     ]
    }
   ],
   "source": [
    "Fmax = 2# N\n",
    "stress = Fmax/A\n",
    "dstress = dA/A * stress\n",
    "print(\"Stress: {:.3g} {:.3g}\".format(stress/1e3, dstress/1e3))\n",
    "\n",
    "dlmax = staticdata[-2,1]/1000\n",
    "\n",
    "strain = dlmax/l1\n",
    "dstrain = dl1/l1 * strain\n",
    "print(\"Strain: {:.3e} {:.1e}\".format(strain, dstrain))\n"
   ]
  },
  {
   "cell_type": "code",
   "execution_count": 8,
   "metadata": {
    "collapsed": false
   },
   "outputs": [
    {
     "name": "stdout",
     "output_type": "stream",
     "text": [
      "10.699012305 0.0132082914491\n"
     ]
    }
   ],
   "source": [
    "q.set_print_style(\"Latex\")\n",
    "thickness = q.Measurement(0.78, 0.01, units=\"mm\")/1000\n",
    "length = q.Measurement(2.81, 0.01)\n",
    "M = q.Measurement(6.949, 0.001)\n",
    "\n",
    "\n",
    "dynamictable = pd.read_excel('Lab5/part2freq.xlsx').as_matrix()\n",
    "\n",
    "periods = (dynamictable[:, 1]/1000)/dynamictable[:, 0]\n",
    "freqs = 1/periods\n",
    "freq_err = freqs.std(ddof=1)\n",
    "freq_avg = freqs.mean()\n",
    "\n",
    "freq = q.Measurement(freq_avg, freq_err)\n",
    "print(freq_avg, freq_err)"
   ]
  },
  {
   "cell_type": "markdown",
   "metadata": {},
   "source": [
    "$2\\pi f = \\sqrt{\\frac{EA}{Ml}}$\n",
    "\n",
    "$E = {(2\\pi f_{avg})}^2 Ml/A$\n"
   ]
  },
  {
   "cell_type": "code",
   "execution_count": 9,
   "metadata": {
    "collapsed": false
   },
   "outputs": [
    {
     "name": "stdout",
     "output_type": "stream",
     "text": [
      "184.67013027590298 4.780593526841224\n",
      "(185 \\pm 5)*10^{9}\n"
     ]
    }
   ],
   "source": [
    "area = np.pi * (thickness/2)**2\n",
    "Edynamic = (2*np.pi*freq_avg)**2 * M * length/(area)\n",
    "\n",
    "print(Edynamic.get_mean()/1e9, Edynamic.get_error()/1e9)\n",
    "print(Edynamic)"
   ]
  },
  {
   "cell_type": "code",
   "execution_count": 20,
   "metadata": {
    "collapsed": false
   },
   "outputs": [
    {
     "name": "stdout",
     "output_type": "stream",
     "text": [
      "(122 \\pm 10)\n",
      "(30 \\pm 2)*10^{-1}\n",
      "(89 \\pm 2)\n",
      "Stress (186 \\pm 6)*10^{3}\n"
     ]
    }
   ],
   "source": [
    "sensitivity = 400\n",
    "voltage_avg = dynamictable[:, 2].mean()/2\n",
    "voltage_err = dynamictable[:, 2].std(ddof=1)\n",
    "\n",
    "voltage = q.Measurement(voltage_avg, voltage_err)\n",
    "\n",
    "acceleration = (voltage * 1/sensitivity) * 9.81\n",
    "T = M * acceleration + M * g\n",
    "print(voltage)\n",
    "print(acceleration)\n",
    "print(T)\n",
    "print(\"Stress\", T/area/1e3)"
   ]
  },
  {
   "cell_type": "code",
   "execution_count": 21,
   "metadata": {
    "collapsed": false
   },
   "outputs": [
    {
     "name": "stdout",
     "output_type": "stream",
     "text": [
      "(66 \\pm 5)*10^{-5}\n",
      "(30 \\pm 2)*10^{-1} (452 \\pm 1)*10^{1}\n"
     ]
    }
   ],
   "source": [
    "xo = acceleration/(2*np.pi*freq)**2\n",
    "print(xo)\n",
    "print(acceleration, (2*np.pi*freq)**2)"
   ]
  },
  {
   "cell_type": "code",
   "execution_count": 22,
   "metadata": {
    "collapsed": false
   },
   "outputs": [
    {
     "name": "stdout",
     "output_type": "stream",
     "text": [
      "(23 \\pm 2)*10^{-5}\n"
     ]
    }
   ],
   "source": [
    "strain = xo/length\n",
    "print(strain)"
   ]
  },
  {
   "cell_type": "code",
   "execution_count": 23,
   "metadata": {
    "collapsed": false
   },
   "outputs": [
    {
     "name": "stdout",
     "output_type": "stream",
     "text": [
      "(62 \\pm 2)*10^{1}\n"
     ]
    }
   ],
   "source": [
    "qtimes = pd.read_excel(\"./Lab5/qualityfactor.xlsx\").as_matrix()\n",
    "time_avg = qtimes[1:, 0].mean()\n",
    "times = q.Measurement(time_avg, 0.5)\n",
    "\n",
    "Q = np.pi * times * freq/np.log(2)\n",
    "print(Q)"
   ]
  },
  {
   "cell_type": "code",
   "execution_count": null,
   "metadata": {
    "collapsed": true
   },
   "outputs": [],
   "source": []
  }
 ],
 "metadata": {
  "kernelspec": {
   "display_name": "Python 3",
   "language": "python",
   "name": "python3"
  },
  "language_info": {
   "codemirror_mode": {
    "name": "ipython",
    "version": 3
   },
   "file_extension": ".py",
   "mimetype": "text/x-python",
   "name": "python",
   "nbconvert_exporter": "python",
   "pygments_lexer": "ipython3",
   "version": "3.6.0"
  }
 },
 "nbformat": 4,
 "nbformat_minor": 2
}
