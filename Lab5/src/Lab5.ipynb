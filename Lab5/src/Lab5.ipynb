{
 "cells": [
  {
   "cell_type": "markdown",
   "metadata": {},
   "source": [
    "# Lab 5 Report: Bending Beams\n",
    "### ENPHYS253\n",
    "### Viraj Banagri\n",
    "#### 2017-01-1\n",
    "\n",
    "- Insert beam into deflection apparatus.\n",
    "- Wire up the beam like in the following diagram:\n",
    "\n",
    "<img src=\"./img/gauge1strain.png\" width=60%>\n",
    "\n",
    "- Measure the distance from the clamp to the center of the strain gauges (x) and to the micrometer (L).\n",
    "- Measure the thickness of the beam (a). Measure the thickness at three different points and average out the data.\n",
    "- Measure the width of the beam (b).  Measure the beam at three different points and average out the data.\n",
    "- The data is summarized below in the following table:\n"
   ]
  },
  {
   "cell_type": "code",
   "execution_count": 2,
   "metadata": {
    "collapsed": false
   },
   "outputs": [
    {
     "name": "stdout",
     "output_type": "stream",
     "text": [
      "Table 1: Measurements of Steel Beam\n"
     ]
    },
    {
     "data": {
      "text/html": [
       "<div>\n",
       "<table border=\"1\" class=\"dataframe\">\n",
       "  <thead>\n",
       "    <tr style=\"text-align: right;\">\n",
       "      <th></th>\n",
       "      <th>x1 [mm] +/- 0.01 mm</th>\n",
       "      <th>x2 [mm] +/- 0.01 mm</th>\n",
       "      <th>x3 [mm] +/- 0.5 mm</th>\n",
       "      <th>L [mm] +/- 0.5 mm</th>\n",
       "      <th>a (Clamped) [mm] +/- 0.01 mm</th>\n",
       "      <th>a (Center) [mm] +/- 0.01 mm</th>\n",
       "      <th>a (Free End) [mm] +/- 0.01 mm</th>\n",
       "      <th>a (Average)[mm] +/- 0.01 mm</th>\n",
       "      <th>b (Clamped) [mm] +/- 0.01 mm</th>\n",
       "      <th>b (Clamped) [mm] +/- 0.01 mm.1</th>\n",
       "      <th>b (Clamped) [mm] +/- 0.01 mm.2</th>\n",
       "      <th>b Average [mm] +/- 0.01 mm</th>\n",
       "    </tr>\n",
       "  </thead>\n",
       "  <tbody>\n",
       "    <tr>\n",
       "      <th>0</th>\n",
       "      <td>25.5</td>\n",
       "      <td>101.66</td>\n",
       "      <td>175.5</td>\n",
       "      <td>255</td>\n",
       "      <td>6.26</td>\n",
       "      <td>6.23</td>\n",
       "      <td>6.42</td>\n",
       "      <td>6.3</td>\n",
       "      <td>6.26</td>\n",
       "      <td>6.32</td>\n",
       "      <td>6.42</td>\n",
       "      <td>6.3</td>\n",
       "    </tr>\n",
       "  </tbody>\n",
       "</table>\n",
       "</div>"
      ],
      "text/plain": [
       "   x1 [mm] +/- 0.01 mm  x2 [mm] +/- 0.01 mm  x3 [mm] +/- 0.5 mm  \\\n",
       "0                 25.5               101.66               175.5   \n",
       "\n",
       "   L [mm] +/- 0.5 mm  a (Clamped) [mm] +/- 0.01 mm  \\\n",
       "0                255                          6.26   \n",
       "\n",
       "   a (Center) [mm] +/- 0.01 mm  a (Free End) [mm] +/- 0.01 mm  \\\n",
       "0                         6.23                           6.42   \n",
       "\n",
       "   a (Average)[mm] +/- 0.01 mm  b (Clamped) [mm] +/- 0.01 mm  \\\n",
       "0                          6.3                          6.26   \n",
       "\n",
       "   b (Clamped) [mm] +/- 0.01 mm.1  b (Clamped) [mm] +/- 0.01 mm.2  \\\n",
       "0                            6.32                            6.42   \n",
       "\n",
       "   b Average [mm] +/- 0.01 mm  \n",
       "0                         6.3  "
      ]
     },
     "execution_count": 2,
     "metadata": {},
     "output_type": "execute_result"
    }
   ],
   "source": [
    "import pandas as pd\n",
    "import matplotlib.pyplot as plt\n",
    "import numpy as np\n",
    "import scipy as sci\n",
    "\n",
    "beam_csv = pd.read_csv(\"../data/beam data.csv\")\n",
    "print(\"Table 1: Measurements of Steel Beam\")\n",
    "beam = beam_csv.as_matrix()\n",
    "beam_csv"
   ]
  },
  {
   "cell_type": "markdown",
   "metadata": {},
   "source": [
    "- Deflect the beam using the micrometer and measure the $\\epsilon_l$ values."
   ]
  },
  {
   "cell_type": "code",
   "execution_count": 184,
   "metadata": {
    "collapsed": false
   },
   "outputs": [
    {
     "name": "stdout",
     "output_type": "stream",
     "text": [
      "Table 2: Measurements of Steel Beam with L = 255mm +/- 0.5mm\n"
     ]
    },
    {
     "data": {
      "text/html": [
       "<div>\n",
       "<table border=\"1\" class=\"dataframe\">\n",
       "  <thead>\n",
       "    <tr style=\"text-align: right;\">\n",
       "      <th></th>\n",
       "      <th>Deflection [in]</th>\n",
       "      <th>Gauge 1 Strain * 10^-5 +/- 0.2 * 10^-5</th>\n",
       "      <th>Gauge 2 Strain * 10^-5 +/- 0.2 * 10^-5</th>\n",
       "      <th>Gauge 3 Strain * 10^-5 +/- 0.2 * 10^-5</th>\n",
       "    </tr>\n",
       "  </thead>\n",
       "  <tbody>\n",
       "    <tr>\n",
       "      <th>0</th>\n",
       "      <td>0.1</td>\n",
       "      <td>31.8</td>\n",
       "      <td>22.6</td>\n",
       "      <td>11.5</td>\n",
       "    </tr>\n",
       "    <tr>\n",
       "      <th>1</th>\n",
       "      <td>0.2</td>\n",
       "      <td>63.0</td>\n",
       "      <td>42.8</td>\n",
       "      <td>21.8</td>\n",
       "    </tr>\n",
       "    <tr>\n",
       "      <th>2</th>\n",
       "      <td>0.3</td>\n",
       "      <td>93.6</td>\n",
       "      <td>63.7</td>\n",
       "      <td>31.7</td>\n",
       "    </tr>\n",
       "    <tr>\n",
       "      <th>3</th>\n",
       "      <td>0.4</td>\n",
       "      <td>123.8</td>\n",
       "      <td>84.1</td>\n",
       "      <td>42.0</td>\n",
       "    </tr>\n",
       "    <tr>\n",
       "      <th>4</th>\n",
       "      <td>0.5</td>\n",
       "      <td>154.1</td>\n",
       "      <td>104.4</td>\n",
       "      <td>53.5</td>\n",
       "    </tr>\n",
       "  </tbody>\n",
       "</table>\n",
       "</div>"
      ],
      "text/plain": [
       "   Deflection [in]  Gauge 1 Strain * 10^-5 +/- 0.2 * 10^-5  \\\n",
       "0              0.1                                    31.8   \n",
       "1              0.2                                    63.0   \n",
       "2              0.3                                    93.6   \n",
       "3              0.4                                   123.8   \n",
       "4              0.5                                   154.1   \n",
       "\n",
       "   Gauge 2 Strain * 10^-5 +/- 0.2 * 10^-5  \\\n",
       "0                                    22.6   \n",
       "1                                    42.8   \n",
       "2                                    63.7   \n",
       "3                                    84.1   \n",
       "4                                   104.4   \n",
       "\n",
       "   Gauge 3 Strain * 10^-5 +/- 0.2 * 10^-5  \n",
       "0                                    11.5  \n",
       "1                                    21.8  \n",
       "2                                    31.7  \n",
       "3                                    42.0  \n",
       "4                                    53.5  "
      ]
     },
     "execution_count": 184,
     "metadata": {},
     "output_type": "execute_result"
    }
   ],
   "source": [
    "strain1_csv = pd.read_csv(\"../data/strain1 data.csv\")\n",
    "print(\"Table 2: Measurements of Steel Beam with L = 255mm +/- 0.5mm\")\n",
    "strain1_csv"
   ]
  },
  {
   "cell_type": "code",
   "execution_count": 109,
   "metadata": {
    "collapsed": false
   },
   "outputs": [
    {
     "data": {
      "image/png": "[encoded data removed]",
      "text/plain": [
       "<matplotlib.figure.Figure at 0x109d53278>"
      ]
     },
     "metadata": {},
     "output_type": "display_data"
    }
   ],
   "source": [
    "strain1 = strain1_csv.as_matrix()\n",
    "strain1_y = strain1[:, 0]\n",
    "strain1_g1 = strain1[:, 1]\n",
    "strain1_g2 = strain1[:, 2]\n",
    "\n",
    "plt.figure(1)\n",
    "plt.plot(strain1_y, strain1_g1, \".\", label=\"Gauge 1\")\n",
    "plt.plot(strain1_y, strain1_g2, \".\", label=\"Gauge 2\")\n",
    "plt.legend()\n",
    "plt.xlabel(\"Deflection [in]\")\n",
    "plt.xlabel(\"Strain * 10e-5\")\n",
    "plt.show()"
   ]
  },
  {
   "cell_type": "markdown",
   "metadata": {},
   "source": [
    "- Measure L, the distance from the clamp to dimple as 286 mm +/- 0.5mm. Put variying weights on a hook attached to the dimple and measure the values strains.\n",
    "- Measure $\\epsilon_l$ for five weights. "
   ]
  },
  {
   "cell_type": "code",
   "execution_count": 3,
   "metadata": {
    "collapsed": false
   },
   "outputs": [
    {
     "name": "stdout",
     "output_type": "stream",
     "text": [
      "Table 3: Measurements of Steel Beam with L = 286mm +/- 0.5mm\n"
     ]
    },
    {
     "data": {
      "text/html": [
       "<div>\n",
       "<table border=\"1\" class=\"dataframe\">\n",
       "  <thead>\n",
       "    <tr style=\"text-align: right;\">\n",
       "      <th></th>\n",
       "      <th>Mass [g]</th>\n",
       "      <th>Error in Mass [g]</th>\n",
       "      <th>Gauge Strain  * 10^-5 +/- 0.2 * 10^-5</th>\n",
       "    </tr>\n",
       "  </thead>\n",
       "  <tbody>\n",
       "    <tr>\n",
       "      <th>0</th>\n",
       "      <td>184.87</td>\n",
       "      <td>0.2</td>\n",
       "      <td>4.9</td>\n",
       "    </tr>\n",
       "    <tr>\n",
       "      <th>1</th>\n",
       "      <td>685.58</td>\n",
       "      <td>0.4</td>\n",
       "      <td>15.7</td>\n",
       "    </tr>\n",
       "    <tr>\n",
       "      <th>2</th>\n",
       "      <td>1186.43</td>\n",
       "      <td>0.4</td>\n",
       "      <td>25.8</td>\n",
       "    </tr>\n",
       "    <tr>\n",
       "      <th>3</th>\n",
       "      <td>1687.14</td>\n",
       "      <td>0.6</td>\n",
       "      <td>37.1</td>\n",
       "    </tr>\n",
       "    <tr>\n",
       "      <th>4</th>\n",
       "      <td>2187.84</td>\n",
       "      <td>0.4</td>\n",
       "      <td>47.9</td>\n",
       "    </tr>\n",
       "  </tbody>\n",
       "</table>\n",
       "</div>"
      ],
      "text/plain": [
       "   Mass [g]  Error in Mass [g]  Gauge Strain  * 10^-5 +/- 0.2 * 10^-5\n",
       "0    184.87                0.2                                    4.9\n",
       "1    685.58                0.4                                   15.7\n",
       "2   1186.43                0.4                                   25.8\n",
       "3   1687.14                0.6                                   37.1\n",
       "4   2187.84                0.4                                   47.9"
      ]
     },
     "execution_count": 3,
     "metadata": {},
     "output_type": "execute_result"
    }
   ],
   "source": [
    "strain2_csv = pd.read_csv(\"../data/strain2 data.csv\")\n",
    "print(\"Table 3: Measurements of Steel Beam with L = 286mm +/- 0.5mm\")\n",
    "strain2_csv"
   ]
  },
  {
   "cell_type": "code",
   "execution_count": 179,
   "metadata": {
    "collapsed": false
   },
   "outputs": [
    {
     "data": {
      "image/png": "[encoded data removed]",
      "text/plain": [
       "<matplotlib.figure.Figure at 0x109fb02e8>"
      ]
     },
     "metadata": {},
     "output_type": "display_data"
    }
   ],
   "source": [
    "strain2 = strain2_csv.as_matrix()\n",
    "strain2_mass = strain2[:, 0]/1000\n",
    "strain2_el = strain2[:, 2] * 1e-5\n",
    "\n",
    "plt.plot(strain2_mass, strain2_el, '.')\n",
    "plt.xlabel(\"Mass [g]\")\n",
    "plt.ylabel(\"Strain * 10^-5\")\n",
    "plt.show()\n",
    "\n",
    "el_w, intecercept = np.polyfit(strain2_mass, strain2_el, 1) # Strain divided by mass "
   ]
  },
  {
   "cell_type": "markdown",
   "metadata": {},
   "source": [
    "- Use the following equation to to find Young's modulus (Y)\n",
    "\n",
    "$\\frac{\\epsilon_l}{W} = \\frac{a(L-x)}{2 Y I_a} = \\frac{6(L-x)}{Ya^{2}b}$\n",
    "\n",
    "$Y = \\frac{6W(L-x) }{\\epsilon_l a^2 b} = 69.6 \\frac{N}{m^2GPa}$"
   ]
  },
  {
   "cell_type": "markdown",
   "metadata": {},
   "source": [
    "- Turn over beam\n",
    "- Measure the strain on the bottom of the beam at the first gauge"
   ]
  },
  {
   "cell_type": "code",
   "execution_count": 186,
   "metadata": {
    "collapsed": false
   },
   "outputs": [
    {
     "name": "stdout",
     "output_type": "stream",
     "text": [
      "Table 4: Measurements of Steel Beam with L = 255mm +/- 0.5mm\n"
     ]
    },
    {
     "data": {
      "text/html": [
       "<div>\n",
       "<table border=\"1\" class=\"dataframe\">\n",
       "  <thead>\n",
       "    <tr style=\"text-align: right;\">\n",
       "      <th></th>\n",
       "      <th>Deflection [in]</th>\n",
       "      <th>Strain * 10^-5 +/- 0.2 *10^-5</th>\n",
       "    </tr>\n",
       "  </thead>\n",
       "  <tbody>\n",
       "    <tr>\n",
       "      <th>0</th>\n",
       "      <td>0.1</td>\n",
       "      <td>34.2</td>\n",
       "    </tr>\n",
       "    <tr>\n",
       "      <th>1</th>\n",
       "      <td>0.2</td>\n",
       "      <td>64.0</td>\n",
       "    </tr>\n",
       "    <tr>\n",
       "      <th>2</th>\n",
       "      <td>0.3</td>\n",
       "      <td>91.3</td>\n",
       "    </tr>\n",
       "    <tr>\n",
       "      <th>3</th>\n",
       "      <td>0.4</td>\n",
       "      <td>120.8</td>\n",
       "    </tr>\n",
       "    <tr>\n",
       "      <th>4</th>\n",
       "      <td>0.5</td>\n",
       "      <td>150.4</td>\n",
       "    </tr>\n",
       "  </tbody>\n",
       "</table>\n",
       "</div>"
      ],
      "text/plain": [
       "   Deflection [in]  Strain * 10^-5 +/- 0.2 *10^-5\n",
       "0              0.1                           34.2\n",
       "1              0.2                           64.0\n",
       "2              0.3                           91.3\n",
       "3              0.4                          120.8\n",
       "4              0.5                          150.4"
      ]
     },
     "execution_count": 186,
     "metadata": {},
     "output_type": "execute_result"
    }
   ],
   "source": [
    "strain3_csv = pd.read_csv(\"../data/strain3 data.csv\")\n",
    "print(\"Table 4: Measurements of Steel Beam with L = 255mm +/- 0.5mm\")\n",
    "strain3_csv"
   ]
  },
  {
   "cell_type": "code",
   "execution_count": 190,
   "metadata": {
    "collapsed": false
   },
   "outputs": [
    {
     "data": {
      "text/html": [
       "<div>\n",
       "<table border=\"1\" class=\"dataframe\">\n",
       "  <thead>\n",
       "    <tr style=\"text-align: right;\">\n",
       "      <th></th>\n",
       "      <th>Deflection [in]</th>\n",
       "      <th>Top Gauge Strain * 10^-5 +/- 0.2 * 10^-5</th>\n",
       "      <th>Bottom Gauge Tension * 10^-5 +/- 0.2 * 10^-5</th>\n",
       "    </tr>\n",
       "  </thead>\n",
       "  <tbody>\n",
       "    <tr>\n",
       "      <th>0</th>\n",
       "      <td>0.1</td>\n",
       "      <td>31.8</td>\n",
       "      <td>11.4</td>\n",
       "    </tr>\n",
       "    <tr>\n",
       "      <th>1</th>\n",
       "      <td>0.2</td>\n",
       "      <td>61.6</td>\n",
       "      <td>20.8</td>\n",
       "    </tr>\n",
       "    <tr>\n",
       "      <th>2</th>\n",
       "      <td>0.3</td>\n",
       "      <td>91.0</td>\n",
       "      <td>29.6</td>\n",
       "    </tr>\n",
       "    <tr>\n",
       "      <th>3</th>\n",
       "      <td>0.4</td>\n",
       "      <td>120.2</td>\n",
       "      <td>39.2</td>\n",
       "    </tr>\n",
       "    <tr>\n",
       "      <th>4</th>\n",
       "      <td>0.5</td>\n",
       "      <td>149.8</td>\n",
       "      <td>48.1</td>\n",
       "    </tr>\n",
       "  </tbody>\n",
       "</table>\n",
       "</div>"
      ],
      "text/plain": [
       "   Deflection [in]  Top Gauge Strain * 10^-5 +/- 0.2 * 10^-5  \\\n",
       "0              0.1                                      31.8   \n",
       "1              0.2                                      61.6   \n",
       "2              0.3                                      91.0   \n",
       "3              0.4                                     120.2   \n",
       "4              0.5                                     149.8   \n",
       "\n",
       "   Bottom Gauge Tension * 10^-5 +/- 0.2 * 10^-5  \n",
       "0                                          11.4  \n",
       "1                                          20.8  \n",
       "2                                          29.6  \n",
       "3                                          39.2  \n",
       "4                                          48.1  "
      ]
     },
     "execution_count": 190,
     "metadata": {},
     "output_type": "execute_result"
    }
   ],
   "source": [
    "strain4_csv = pd.read_csv(\"../data/strain4 data.csv\")\n",
    "stranin4 = strain1_csv.as_matrix()\n",
    "poission, intercept = np.polyfit(stranin4[:, 1], stranin4[:, 2], 1)\n",
    "strain4_csv"
   ]
  },
  {
   "cell_type": "code",
   "execution_count": 199,
   "metadata": {
    "collapsed": false
   },
   "outputs": [
    {
     "name": "stdout",
     "output_type": "stream",
     "text": [
      "Possions ratio is -0.34\n"
     ]
    }
   ],
   "source": [
    "print(\"Possions ratio is {:.2f}\".format(-poission/2))"
   ]
  },
  {
   "cell_type": "code",
   "execution_count": null,
   "metadata": {
    "collapsed": true
   },
   "outputs": [],
   "source": []
  }
 ],
 "metadata": {
  "kernelspec": {
   "display_name": "Python 3",
   "language": "python",
   "name": "python3"
  },
  "language_info": {
   "codemirror_mode": {
    "name": "ipython",
    "version": 3
   },
   "file_extension": ".py",
   "mimetype": "text/x-python",
   "name": "python",
   "nbconvert_exporter": "python",
   "pygments_lexer": "ipython3",
   "version": "3.6.0"
  }
 },
 "nbformat": 4,
 "nbformat_minor": 2
}
