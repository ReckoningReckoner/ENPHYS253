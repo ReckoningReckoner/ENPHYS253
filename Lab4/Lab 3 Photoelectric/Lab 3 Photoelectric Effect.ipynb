{
 "cells": [
  {
   "cell_type": "markdown",
   "metadata": {},
   "source": [
    "# Lab 3 Photoelectric Effect\n",
    "## Murtadha Aldallal\n",
    "### February 3rd 2017\n",
    "#### ENPH 253\n",
    "\n",
    "#### PART A\n",
    "- The experiment was conducted in a dark enviorment for more accurate results\n",
    "- BK precision digital multimeter model 2831D, the uncertainty associated with the multimeter is 0.5% + 2 digits\n",
    "- Light Block used as Hg light source, model OS-9286 \n",
    "- The photodiode used is a PASCO model AP-9368\n",
    "The light emitted from the Hg source was focused onto the slot in the white reflective mask\n",
    "\n",
    "\n",
    "<img src=\"photoelectric figure.png\">\n",
    "\n",
    "#### PART B\n",
    "- Using green spectral light upon the opening of the photodiode, placing the corresponding color filter over the white reflective mask. \n",
    "- Using different sections with different transmission percents, measure the stopping potential for green light\n",
    "- After stopping potential has been measured, discharge the photodiode and use a stopwatch to measure the time taken to recharge\n",
    "\n",
    "\n"
   ]
  },
  {
   "cell_type": "code",
   "execution_count": 3,
   "metadata": {
    "collapsed": false
   },
   "outputs": [
    {
     "name": "stdout",
     "output_type": "stream",
     "text": [
      "Photoelectric Effect: Stopping Potential of Hg Spectrum Green Light with f = 5.49e+14 Hz\n"
     ]
    },
    {
     "data": {
      "text/html": [
       "<div>\n",
       "<table border=\"1\" class=\"dataframe\">\n",
       "  <thead>\n",
       "    <tr style=\"text-align: right;\">\n",
       "      <th></th>\n",
       "      <th>Tranmission Percent</th>\n",
       "      <th>Stopping Potential [V] +/- 0.0042 [V]</th>\n",
       "      <th>Time to Recharge [s] +/- 1  s</th>\n",
       "    </tr>\n",
       "  </thead>\n",
       "  <tbody>\n",
       "    <tr>\n",
       "      <th>0</th>\n",
       "      <td>100</td>\n",
       "      <td>0.857</td>\n",
       "      <td>8.19</td>\n",
       "    </tr>\n",
       "    <tr>\n",
       "      <th>1</th>\n",
       "      <td>80</td>\n",
       "      <td>0.855</td>\n",
       "      <td>10.82</td>\n",
       "    </tr>\n",
       "    <tr>\n",
       "      <th>2</th>\n",
       "      <td>60</td>\n",
       "      <td>0.855</td>\n",
       "      <td>12.00</td>\n",
       "    </tr>\n",
       "    <tr>\n",
       "      <th>3</th>\n",
       "      <td>40</td>\n",
       "      <td>0.854</td>\n",
       "      <td>16.12</td>\n",
       "    </tr>\n",
       "    <tr>\n",
       "      <th>4</th>\n",
       "      <td>20</td>\n",
       "      <td>0.851</td>\n",
       "      <td>20.45</td>\n",
       "    </tr>\n",
       "  </tbody>\n",
       "</table>\n",
       "</div>"
      ],
      "text/plain": [
       "   Tranmission Percent  Stopping Potential [V] +/- 0.0042 [V]  \\\n",
       "0                  100                                  0.857   \n",
       "1                   80                                  0.855   \n",
       "2                   60                                  0.855   \n",
       "3                   40                                  0.854   \n",
       "4                   20                                  0.851   \n",
       "\n",
       "   Time to Recharge [s] +/- 1  s  \n",
       "0                           8.19  \n",
       "1                          10.82  \n",
       "2                          12.00  \n",
       "3                          16.12  \n",
       "4                          20.45  "
      ]
     },
     "execution_count": 3,
     "metadata": {},
     "output_type": "execute_result"
    }
   ],
   "source": [
    "import pandas as pd\n",
    "dataGreen = pd.read_csv(\"Data/partb.csv\")\n",
    "greenFreq = 5.49e14\n",
    "print(\"Photoelectric Effect: Stopping Potential of Hg Spectrum Green Light with f = {:.2e}\".format(greenFreq), \"Hz\")\n",
    "dataGreen"
   ]
  },
  {
   "cell_type": "markdown",
   "metadata": {},
   "source": [
    "- Repeat same procedure for green light but with yellow light"
   ]
  },
  {
   "cell_type": "code",
   "execution_count": 8,
   "metadata": {
    "collapsed": false
   },
   "outputs": [
    {
     "name": "stdout",
     "output_type": "stream",
     "text": [
      "Photoelectric Effect: Stopping Potential of Hg Spectrum Yellow Light with f = 5.19e+14 Hz\n"
     ]
    },
    {
     "data": {
      "text/html": [
       "<div>\n",
       "<table border=\"1\" class=\"dataframe\">\n",
       "  <thead>\n",
       "    <tr style=\"text-align: right;\">\n",
       "      <th></th>\n",
       "      <th>Tranmission Percent</th>\n",
       "      <th>Stopping Potential [V] +- 5% +- 2 digits</th>\n",
       "      <th>Time to Recharge [s] +- 1  s</th>\n",
       "    </tr>\n",
       "  </thead>\n",
       "  <tbody>\n",
       "    <tr>\n",
       "      <th>0</th>\n",
       "      <td>100</td>\n",
       "      <td>0.7210</td>\n",
       "      <td>8.30</td>\n",
       "    </tr>\n",
       "    <tr>\n",
       "      <th>1</th>\n",
       "      <td>80</td>\n",
       "      <td>0.7205</td>\n",
       "      <td>9.12</td>\n",
       "    </tr>\n",
       "    <tr>\n",
       "      <th>2</th>\n",
       "      <td>60</td>\n",
       "      <td>0.7200</td>\n",
       "      <td>10.70</td>\n",
       "    </tr>\n",
       "    <tr>\n",
       "      <th>3</th>\n",
       "      <td>40</td>\n",
       "      <td>0.7190</td>\n",
       "      <td>14.25</td>\n",
       "    </tr>\n",
       "    <tr>\n",
       "      <th>4</th>\n",
       "      <td>20</td>\n",
       "      <td>0.7160</td>\n",
       "      <td>20.58</td>\n",
       "    </tr>\n",
       "  </tbody>\n",
       "</table>\n",
       "</div>"
      ],
      "text/plain": [
       "   Tranmission Percent  Stopping Potential [V] +- 5% +- 2 digits  \\\n",
       "0                  100                                    0.7210   \n",
       "1                   80                                    0.7205   \n",
       "2                   60                                    0.7200   \n",
       "3                   40                                    0.7190   \n",
       "4                   20                                    0.7160   \n",
       "\n",
       "   Time to Recharge [s] +- 1  s  \n",
       "0                          8.30  \n",
       "1                          9.12  \n",
       "2                         10.70  \n",
       "3                         14.25  \n",
       "4                         20.58  "
      ]
     },
     "execution_count": 8,
     "metadata": {},
     "output_type": "execute_result"
    }
   ],
   "source": [
    "dataYellow = pd.read_csv(\"Data/partbyellow.csv\")\n",
    "yellowFreq = 5.19e14\n",
    "print (\"Photoelectric Effect: Stopping Potential of Hg Spectrum Yellow Light with f = {:.2e}\".format(yellowFreq) , \"Hz\")\n",
    "dataYellow"
   ]
  },
  {
   "cell_type": "markdown",
   "metadata": {},
   "source": [
    "#### PART C\n",
    "- Five colors are in the Hg light spectrum. Adjust the apparatus so that the coloured band falls upon the opening of the mask of the photodiode\n",
    "- Place a certain coloured filter over the white reflective mask of the photodiode\n",
    "- Record the stopping potential making sure to allow the full accumulation of charge before recording measurments\n",
    "- Repeat the process for each colour in the Hg spectrum\n",
    "- The data obtained is displayed below"
   ]
  },
  {
   "cell_type": "code",
   "execution_count": 6,
   "metadata": {
    "collapsed": false
   },
   "outputs": [
    {
     "name": "stdout",
     "output_type": "stream",
     "text": [
      "Phtoelectric Effect: Stopping Potential Measued with Variable Hg Speectrum Frequencies\n"
     ]
    },
    {
     "data": {
      "text/html": [
       "<div>\n",
       "<table border=\"1\" class=\"dataframe\">\n",
       "  <thead>\n",
       "    <tr style=\"text-align: right;\">\n",
       "      <th></th>\n",
       "      <th>Light Colour</th>\n",
       "      <th>Frequency [Hz] *10^14</th>\n",
       "      <th>Stopping Potential [V]</th>\n",
       "    </tr>\n",
       "  </thead>\n",
       "  <tbody>\n",
       "    <tr>\n",
       "      <th>0</th>\n",
       "      <td>Yellow</td>\n",
       "      <td>5.19</td>\n",
       "      <td>0.725</td>\n",
       "    </tr>\n",
       "    <tr>\n",
       "      <th>1</th>\n",
       "      <td>Green</td>\n",
       "      <td>5.49</td>\n",
       "      <td>0.860</td>\n",
       "    </tr>\n",
       "    <tr>\n",
       "      <th>2</th>\n",
       "      <td>Blue</td>\n",
       "      <td>6.88</td>\n",
       "      <td>1.448</td>\n",
       "    </tr>\n",
       "    <tr>\n",
       "      <th>3</th>\n",
       "      <td>Violet One</td>\n",
       "      <td>7.41</td>\n",
       "      <td>1.661</td>\n",
       "    </tr>\n",
       "    <tr>\n",
       "      <th>4</th>\n",
       "      <td>Violet Two</td>\n",
       "      <td>8.20</td>\n",
       "      <td>1.982</td>\n",
       "    </tr>\n",
       "  </tbody>\n",
       "</table>\n",
       "</div>"
      ],
      "text/plain": [
       "  Light Colour  Frequency [Hz] *10^14  Stopping Potential [V]\n",
       "0       Yellow                   5.19                   0.725\n",
       "1        Green                   5.49                   0.860\n",
       "2         Blue                   6.88                   1.448\n",
       "3   Violet One                   7.41                   1.661\n",
       "4   Violet Two                   8.20                   1.982"
      ]
     },
     "execution_count": 6,
     "metadata": {},
     "output_type": "execute_result"
    }
   ],
   "source": [
    "dataColours = pd.read_csv(\"Data/partc.csv\")\n",
    "print(\"Phtoelectric Effect: Stopping Potential Measued with Variable Hg Speectrum Frequencies\")\n",
    "dataColours"
   ]
  },
  {
   "cell_type": "markdown",
   "metadata": {
    "collapsed": true
   },
   "source": []
  },
  {
   "cell_type": "code",
   "execution_count": null,
   "metadata": {
    "collapsed": true
   },
   "outputs": [],
   "source": []
  }
 ],
 "metadata": {
  "kernelspec": {
   "display_name": "Python 3",
   "language": "python",
   "name": "python3"
  },
  "language_info": {
   "codemirror_mode": {
    "name": "ipython",
    "version": 3
   },
   "file_extension": ".py",
   "mimetype": "text/x-python",
   "name": "python",
   "nbconvert_exporter": "python",
   "pygments_lexer": "ipython3",
   "version": "3.6.0"
  }
 },
 "nbformat": 4,
 "nbformat_minor": 2
}
